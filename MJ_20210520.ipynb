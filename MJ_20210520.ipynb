{
 "cells": [
  {
   "cell_type": "code",
   "execution_count": 1,
   "id": "fc5ea5cd",
   "metadata": {},
   "outputs": [
    {
     "data": {
      "text/plain": [
       "4"
      ]
     },
     "execution_count": 1,
     "metadata": {},
     "output_type": "execute_result"
    }
   ],
   "source": [
    "1+3"
   ]
  },
  {
   "cell_type": "code",
   "execution_count": 3,
   "id": "30877a4a",
   "metadata": {},
   "outputs": [
    {
     "name": "stdout",
     "output_type": "stream",
     "text": [
      "4\n"
     ]
    }
   ],
   "source": [
    "print(1+3)"
   ]
  },
  {
   "cell_type": "code",
   "execution_count": 6,
   "id": "f288b371",
   "metadata": {},
   "outputs": [],
   "source": [
    "a = 1"
   ]
  },
  {
   "cell_type": "code",
   "execution_count": 7,
   "id": "07aec0c7",
   "metadata": {},
   "outputs": [],
   "source": [
    "b = 2"
   ]
  },
  {
   "cell_type": "code",
   "execution_count": 8,
   "id": "a56269df",
   "metadata": {},
   "outputs": [],
   "source": [
    "c = a + b"
   ]
  },
  {
   "cell_type": "code",
   "execution_count": 9,
   "id": "0dcd5b18",
   "metadata": {},
   "outputs": [
    {
     "name": "stdout",
     "output_type": "stream",
     "text": [
      "3\n"
     ]
    }
   ],
   "source": [
    "print(c)"
   ]
  },
  {
   "cell_type": "code",
   "execution_count": 11,
   "id": "53aafe6b",
   "metadata": {},
   "outputs": [
    {
     "name": "stdout",
     "output_type": "stream",
     "text": [
      "3\n"
     ]
    }
   ],
   "source": [
    "a = 1\n",
    "b = 2\n",
    "c = a + b\n",
    "print(c)"
   ]
  },
  {
   "cell_type": "code",
   "execution_count": 5,
   "id": "7e8b8c61",
   "metadata": {},
   "outputs": [
    {
     "data": {
      "text/plain": [
       "3400.0"
      ]
     },
     "execution_count": 5,
     "metadata": {},
     "output_type": "execute_result"
    }
   ],
   "source": [
    "3.4e3"
   ]
  },
  {
   "cell_type": "code",
   "execution_count": 9,
   "id": "2f14b78e",
   "metadata": {},
   "outputs": [
    {
     "data": {
      "text/plain": [
       "0.0034"
      ]
     },
     "execution_count": 9,
     "metadata": {},
     "output_type": "execute_result"
    }
   ],
   "source": [
    "3.4e-3"
   ]
  },
  {
   "cell_type": "code",
   "execution_count": 11,
   "id": "3f115cb1",
   "metadata": {},
   "outputs": [
    {
     "data": {
      "text/plain": [
       "9"
      ]
     },
     "execution_count": 11,
     "metadata": {},
     "output_type": "execute_result"
    }
   ],
   "source": [
    "3 **2"
   ]
  },
  {
   "cell_type": "code",
   "execution_count": 15,
   "id": "7fa6e37b",
   "metadata": {},
   "outputs": [],
   "source": [
    "# 재고 5\n",
    "# 3개마다 1박스 구성 가능\n",
    "#출하 가능 박스 개수와 남은 재고 개수"
   ]
  },
  {
   "cell_type": "code",
   "execution_count": 28,
   "id": "4d0546cc",
   "metadata": {},
   "outputs": [
    {
     "name": "stdout",
     "output_type": "stream",
     "text": [
      "출하 가능 박스:\t1개\n",
      "출하 후 재고:\t2개\n"
     ]
    }
   ],
   "source": [
    "stock_current = 5\n",
    "package_size = 3\n",
    "box_available = stock_current // package_size\n",
    "#stock_current = stock_current - box_available * package_size\n",
    "stock_current = stock_current % package_size\n",
    "\n",
    "print(\"출하 가능 박스:\\t\"+ str(box_available) +\"개\")\n",
    "print(\"출하 후 재고:\\t\"+str(stock_current) +\"개\")"
   ]
  },
  {
   "cell_type": "code",
   "execution_count": 30,
   "id": "febf1ab5",
   "metadata": {},
   "outputs": [
    {
     "name": "stdout",
     "output_type": "stream",
     "text": [
      "사과\n",
      "자두\n",
      "수박\n"
     ]
    }
   ],
   "source": [
    "print('사과')\n",
    "print(\"자두\")\n",
    "print(\"\"\"수박\"\"\")"
   ]
  },
  {
   "cell_type": "code",
   "execution_count": 35,
   "id": "ed0d57c2",
   "metadata": {},
   "outputs": [
    {
     "name": "stdout",
     "output_type": "stream",
     "text": [
      "He said that \"I am so happy\".\n"
     ]
    }
   ],
   "source": [
    "#He said that \"I am so happy\"\n",
    "print('He said that \"I am so happy\".')"
   ]
  },
  {
   "cell_type": "code",
   "execution_count": 38,
   "id": "c07f5529",
   "metadata": {},
   "outputs": [
    {
     "name": "stdout",
     "output_type": "stream",
     "text": [
      "I am can be written as I'm\n"
     ]
    }
   ],
   "source": [
    "#I am can be written as I'm\n",
    "print(\"I am can be written as I'm\")"
   ]
  },
  {
   "cell_type": "code",
   "execution_count": 41,
   "id": "50484071",
   "metadata": {},
   "outputs": [
    {
     "name": "stdout",
     "output_type": "stream",
     "text": [
      "girl's generation\n"
     ]
    }
   ],
   "source": [
    "#print('girl's generation)\n",
    "print(\"girl's generation\")"
   ]
  },
  {
   "cell_type": "code",
   "execution_count": 44,
   "id": "50b08ad1",
   "metadata": {},
   "outputs": [
    {
     "name": "stdout",
     "output_type": "stream",
     "text": [
      "girl's generation\n"
     ]
    }
   ],
   "source": [
    "print('girl\\'s generation')"
   ]
  },
  {
   "cell_type": "code",
   "execution_count": 56,
   "id": "8a054187",
   "metadata": {},
   "outputs": [
    {
     "name": "stdout",
     "output_type": "stream",
     "text": [
      "안녕하세요. 정민지님 만나서 반갑습니다\n"
     ]
    }
   ],
   "source": [
    "greating = \"안녕하세요. \"\n",
    "name = \"정민지\"\n",
    "greating2 = \"님 만나서 반갑습니다\"\n",
    "sentance1 = greating + name + greating2\n",
    "print(sentance1)"
   ]
  },
  {
   "cell_type": "code",
   "execution_count": 52,
   "id": "900c2bf2",
   "metadata": {},
   "outputs": [
    {
     "name": "stdout",
     "output_type": "stream",
     "text": [
      "안녕하세요. 김한남님 만나서 반갑습니다\n"
     ]
    }
   ],
   "source": [
    "name = \"김한남\"\n",
    "sentance1 = greating + name + greating2\n",
    "print(sentance1)"
   ]
  },
  {
   "cell_type": "code",
   "execution_count": 72,
   "id": "094abae2",
   "metadata": {},
   "outputs": [
    {
     "data": {
      "text/plain": [
       "'뿡뿡뿡'"
      ]
     },
     "execution_count": 72,
     "metadata": {},
     "output_type": "execute_result"
    }
   ],
   "source": [
    "a = \"뿡\"\n",
    "a * 3"
   ]
  },
  {
   "cell_type": "code",
   "execution_count": 70,
   "id": "454bc107",
   "metadata": {},
   "outputs": [
    {
     "name": "stdout",
     "output_type": "stream",
     "text": [
      "안녕하세요. 정민지님 만나서 정말 정말 정말 반갑습니다.\n"
     ]
    }
   ],
   "source": [
    "friendly = 3\n",
    "expressio1 = \" 정말\"\n",
    "greating2 = \"님 만나서\"\n",
    "greating3 = \" 반갑습니다.\"\n",
    "sentance1 = greating + name + greating2\\\n",
    "            + expressio1 * friendly + greating3\n",
    "print(sentance1)"
   ]
  },
  {
   "cell_type": "code",
   "execution_count": 85,
   "id": "8cb4f812",
   "metadata": {},
   "outputs": [],
   "source": [
    "first_name = '민지'\n",
    "second_name = '정'\n",
    "if len(first_name) > 3:\n",
    "    print(\"이름 길이 초과 탐색\")\n",
    "if len(second_name) > 1:\n",
    "    print(\"성 길이 초과 탐색\")"
   ]
  },
  {
   "cell_type": "code",
   "execution_count": 87,
   "id": "8bbe4a8f",
   "metadata": {},
   "outputs": [
    {
     "name": "stdout",
     "output_type": "stream",
     "text": [
      "성 길이 초과 탐색\n"
     ]
    }
   ],
   "source": [
    "first_name = '용녀'\n",
    "second_name = '선우'\n",
    "if len(first_name) > 3:\n",
    "    print(\"이름 길이 초과 탐색\")\n",
    "if len(second_name) > 1:\n",
    "    print(\"성 길이 초과 탐색\")"
   ]
  },
  {
   "cell_type": "code",
   "execution_count": 88,
   "id": "80393839",
   "metadata": {},
   "outputs": [],
   "source": [
    "first_over_count\n",
    "seconud_over_count"
   ]
  },
  {
   "cell_type": "code",
   "execution_count": 89,
   "id": "6c6ddc90",
   "metadata": {},
   "outputs": [
    {
     "ename": "NameError",
     "evalue": "name 'first_over_count' is not defined",
     "output_type": "error",
     "traceback": [
      "\u001b[1;31m---------------------------------------------------------------------------\u001b[0m",
      "\u001b[1;31mNameError\u001b[0m                                 Traceback (most recent call last)",
      "\u001b[1;32m<ipython-input-89-310285a525fe>\u001b[0m in \u001b[0;36m<module>\u001b[1;34m\u001b[0m\n\u001b[0;32m      7\u001b[0m     \u001b[0mprint\u001b[0m\u001b[1;33m(\u001b[0m\u001b[1;34m\"성 길이 초과 탐색\"\u001b[0m\u001b[1;33m)\u001b[0m\u001b[1;33m\u001b[0m\u001b[1;33m\u001b[0m\u001b[0m\n\u001b[0;32m      8\u001b[0m     \u001b[0msecond_over_conut\u001b[0m\u001b[1;33m+=\u001b[0m\u001b[1;36m1\u001b[0m\u001b[1;33m\u001b[0m\u001b[1;33m\u001b[0m\u001b[0m\n\u001b[1;32m----> 9\u001b[1;33m \u001b[0mprint\u001b[0m\u001b[1;33m(\u001b[0m\u001b[1;34m\"first_over_count:\"\u001b[0m \u001b[1;33m+\u001b[0m \u001b[0mstr\u001b[0m\u001b[1;33m(\u001b[0m\u001b[0mfirst_over_count\u001b[0m\u001b[1;33m)\u001b[0m\u001b[1;33m)\u001b[0m\u001b[1;33m\u001b[0m\u001b[1;33m\u001b[0m\u001b[0m\n\u001b[0m\u001b[0;32m     10\u001b[0m \u001b[0mprint\u001b[0m\u001b[1;33m(\u001b[0m\u001b[1;34m\"second_over_conut:\"\u001b[0m \u001b[1;33m+\u001b[0m \u001b[0mstr\u001b[0m\u001b[1;33m(\u001b[0m\u001b[0msecond_over_conut\u001b[0m\u001b[1;33m)\u001b[0m\u001b[1;33m)\u001b[0m\u001b[1;33m\u001b[0m\u001b[1;33m\u001b[0m\u001b[0m\n",
      "\u001b[1;31mNameError\u001b[0m: name 'first_over_count' is not defined"
     ]
    }
   ],
   "source": [
    "first_name = '민지'\n",
    "second_name = '정'\n",
    "if len(first_name) > 3:\n",
    "    print(\"이름 길이 초과 탐색\")\n",
    "    first_over_count+=1\n",
    "if len(second_name) > 1:\n",
    "    print(\"성 길이 초과 탐색\")\n",
    "    second_over_conut+=1\n",
    "print(\"first_over_count:jkjm\" + str(first_over_count))\n",
    "print(\"second_over_conut:\" + str(second_over_conut))"
   ]
  }
 ],
 "metadata": {
  "kernelspec": {
   "display_name": "Python 3",
   "language": "python",
   "name": "python3"
  },
  "language_info": {
   "codemirror_mode": {
    "name": "ipython",
    "version": 3
   },
   "file_extension": ".py",
   "mimetype": "text/x-python",
   "name": "python",
   "nbconvert_exporter": "python",
   "pygments_lexer": "ipython3",
   "version": "3.8.8"
  }
 },
 "nbformat": 4,
 "nbformat_minor": 5
}
