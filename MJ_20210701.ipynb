{
 "cells": [
  {
   "cell_type": "code",
   "execution_count": 1,
   "id": "6dc0e86e",
   "metadata": {},
   "outputs": [
    {
     "data": {
      "image/png": "[encoded data removed]",
      "text/plain": [
       "<Figure size 432x288 with 1 Axes>"
      ]
     },
     "metadata": {
      "needs_background": "light"
     },
     "output_type": "display_data"
    }
   ],
   "source": [
    "import mglearn\n",
    "mglearn.plots.plot_binary_confusion_matrix()"
   ]
  },
  {
   "cell_type": "code",
   "execution_count": 2,
   "id": "3fe1dc22",
   "metadata": {},
   "outputs": [
    {
     "name": "stderr",
     "output_type": "stream",
     "text": [
      "ERROR: Invalid requirement: '#amd와'\n"
     ]
    }
   ],
   "source": [
    "!pip install torch cuda #amd와 nvidia의 두 그래픽카드회사"
   ]
  },
  {
   "cell_type": "code",
   "execution_count": 3,
   "id": "d78caea1",
   "metadata": {},
   "outputs": [],
   "source": [
    "import torch"
   ]
  },
  {
   "cell_type": "code",
   "execution_count": 5,
   "id": "32928ffd",
   "metadata": {},
   "outputs": [
    {
     "data": {
      "text/plain": [
       "'1.9.0+cpu'"
      ]
     },
     "execution_count": 5,
     "metadata": {},
     "output_type": "execute_result"
    }
   ],
   "source": [
    "torch.__version__"
   ]
  },
  {
   "cell_type": "code",
   "execution_count": 8,
   "id": "8270c47e",
   "metadata": {},
   "outputs": [],
   "source": [
    "data = [[1,2],[3,4]]"
   ]
  },
  {
   "cell_type": "code",
   "execution_count": 9,
   "id": "caf9903e",
   "metadata": {},
   "outputs": [],
   "source": [
    "np_data = np.array(data)"
   ]
  },
  {
   "cell_type": "code",
   "execution_count": 10,
   "id": "7370d953",
   "metadata": {},
   "outputs": [
    {
     "data": {
      "text/plain": [
       "[[1, 2], [3, 4]]"
      ]
     },
     "execution_count": 10,
     "metadata": {},
     "output_type": "execute_result"
    }
   ],
   "source": [
    "data"
   ]
  },
  {
   "cell_type": "code",
   "execution_count": 11,
   "id": "eafc67ae",
   "metadata": {},
   "outputs": [
    {
     "data": {
      "text/plain": [
       "array([[1, 2],\n",
       "       [3, 4]])"
      ]
     },
     "execution_count": 11,
     "metadata": {},
     "output_type": "execute_result"
    }
   ],
   "source": [
    "np_data #행과열이 잘 잡혀있음 : numpy데이터"
   ]
  },
  {
   "cell_type": "code",
   "execution_count": 12,
   "id": "40b37026",
   "metadata": {},
   "outputs": [],
   "source": [
    "x_data = torch.tensor(data)"
   ]
  },
  {
   "cell_type": "code",
   "execution_count": 13,
   "id": "0e24548e",
   "metadata": {},
   "outputs": [
    {
     "data": {
      "text/plain": [
       "tensor([[1, 2],\n",
       "        [3, 4]])"
      ]
     },
     "execution_count": 13,
     "metadata": {},
     "output_type": "execute_result"
    }
   ],
   "source": [
    "x_data"
   ]
  },
  {
   "cell_type": "code",
   "execution_count": 15,
   "id": "d6307e68",
   "metadata": {},
   "outputs": [
    {
     "data": {
      "text/plain": [
       "tensor([[1., 2.],\n",
       "        [3., 4.]])"
      ]
     },
     "execution_count": 15,
     "metadata": {},
     "output_type": "execute_result"
    }
   ],
   "source": [
    "x_data_f = torch.FloatTensor(data)\n",
    "x_data_f"
   ]
  },
  {
   "cell_type": "code",
   "execution_count": 16,
   "id": "ec92ea69",
   "metadata": {},
   "outputs": [
    {
     "name": "stdout",
     "output_type": "stream",
     "text": [
      "2\n"
     ]
    }
   ],
   "source": [
    "print(x_data_f.dim()) #2차원을 의미"
   ]
  },
  {
   "cell_type": "code",
   "execution_count": 17,
   "id": "69d9fe36",
   "metadata": {},
   "outputs": [
    {
     "name": "stdout",
     "output_type": "stream",
     "text": [
      "torch.Size([2, 2])\n"
     ]
    }
   ],
   "source": [
    "print(x_data_f.shape)"
   ]
  },
  {
   "cell_type": "code",
   "execution_count": 18,
   "id": "9ee12e1e",
   "metadata": {},
   "outputs": [
    {
     "name": "stdout",
     "output_type": "stream",
     "text": [
      "torch.Size([2, 2])\n"
     ]
    }
   ],
   "source": [
    "print(x_data_f.size())"
   ]
  },
  {
   "cell_type": "code",
   "execution_count": 19,
   "id": "1fb849d6",
   "metadata": {},
   "outputs": [
    {
     "data": {
      "text/plain": [
       "tensor([1., 2.])"
      ]
     },
     "execution_count": 19,
     "metadata": {},
     "output_type": "execute_result"
    }
   ],
   "source": [
    "x_data_f[0]"
   ]
  },
  {
   "cell_type": "code",
   "execution_count": 20,
   "id": "5e4b4935",
   "metadata": {},
   "outputs": [
    {
     "data": {
      "text/plain": [
       "tensor(2.)"
      ]
     },
     "execution_count": 20,
     "metadata": {},
     "output_type": "execute_result"
    }
   ],
   "source": [
    "x_data_f[0][1] # 2.를 찍기 위해서"
   ]
  },
  {
   "cell_type": "code",
   "execution_count": 21,
   "id": "15e84d67",
   "metadata": {},
   "outputs": [
    {
     "data": {
      "text/plain": [
       "tensor([1., 2.])"
      ]
     },
     "execution_count": 21,
     "metadata": {},
     "output_type": "execute_result"
    }
   ],
   "source": [
    "x_data_f[0][:]"
   ]
  },
  {
   "cell_type": "code",
   "execution_count": 22,
   "id": "a68b1665",
   "metadata": {},
   "outputs": [
    {
     "name": "stdout",
     "output_type": "stream",
     "text": [
      "tensor([[3., 7.]])\n"
     ]
    }
   ],
   "source": [
    "t1 = torch.FloatTensor([[1,3]])\n",
    "t2 = torch.FloatTensor([[2,4]]) \n",
    "print(t1+t2) #numpy랑 비슷한 모습"
   ]
  },
  {
   "cell_type": "code",
   "execution_count": 23,
   "id": "5fc7ab1d",
   "metadata": {},
   "outputs": [
    {
     "data": {
      "text/plain": [
       "tensor(2.5000)"
      ]
     },
     "execution_count": 23,
     "metadata": {},
     "output_type": "execute_result"
    }
   ],
   "source": [
    "x_data_f.mean() #1,2,3,4의 평균"
   ]
  },
  {
   "cell_type": "code",
   "execution_count": 24,
   "id": "60a4ae16",
   "metadata": {},
   "outputs": [
    {
     "data": {
      "text/plain": [
       "tensor([2., 3.])"
      ]
     },
     "execution_count": 24,
     "metadata": {},
     "output_type": "execute_result"
    }
   ],
   "source": [
    "x_data_f.mean(dim=0) #1과3, 2와4의 평균"
   ]
  },
  {
   "cell_type": "code",
   "execution_count": 25,
   "id": "10a1a6fc",
   "metadata": {},
   "outputs": [
    {
     "data": {
      "text/plain": [
       "tensor([1.5000, 3.5000])"
      ]
     },
     "execution_count": 25,
     "metadata": {},
     "output_type": "execute_result"
    }
   ],
   "source": [
    "x_data_f.mean(dim=1) #1과2, 3과4의 평균"
   ]
  },
  {
   "cell_type": "code",
   "execution_count": 26,
   "id": "cff236fe",
   "metadata": {},
   "outputs": [],
   "source": [
    "t1 = torch.FloatTensor([[1,3]])\n",
    "t2 = torch.FloatTensor([[2,4]]) "
   ]
  },
  {
   "cell_type": "code",
   "execution_count": 27,
   "id": "602e8640",
   "metadata": {},
   "outputs": [
    {
     "data": {
      "text/plain": [
       "tensor([[1., 3.],\n",
       "        [2., 4.]])"
      ]
     },
     "execution_count": 27,
     "metadata": {},
     "output_type": "execute_result"
    }
   ],
   "source": [
    "torch.cat([t1,t2],dim=0)"
   ]
  },
  {
   "cell_type": "code",
   "execution_count": 28,
   "id": "5957ccf0",
   "metadata": {},
   "outputs": [
    {
     "data": {
      "text/plain": [
       "tensor([[1., 3., 2., 4.]])"
      ]
     },
     "execution_count": 28,
     "metadata": {},
     "output_type": "execute_result"
    }
   ],
   "source": [
    "torch.cat([t1,t2],dim=1)"
   ]
  },
  {
   "cell_type": "code",
   "execution_count": 31,
   "id": "ffd83f40",
   "metadata": {},
   "outputs": [
    {
     "data": {
      "text/plain": [
       "tensor([[[1., 3.]],\n",
       "\n",
       "        [[2., 4.]],\n",
       "\n",
       "        [[5., 6.]]])"
      ]
     },
     "execution_count": 31,
     "metadata": {},
     "output_type": "execute_result"
    }
   ],
   "source": [
    "t3 = torch.FloatTensor([[5,6]]) \n",
    "t4 = torch.stack([t1,t2,t3]) #리스트 형태로 쌓고싶은것을 리스트로 담아주면 합쳐준다\n",
    "t4"
   ]
  },
  {
   "cell_type": "code",
   "execution_count": 32,
   "id": "f283b0d4",
   "metadata": {},
   "outputs": [
    {
     "data": {
      "text/plain": [
       "tensor([[[1., 1.]],\n",
       "\n",
       "        [[1., 1.]],\n",
       "\n",
       "        [[1., 1.]]])"
      ]
     },
     "execution_count": 32,
     "metadata": {},
     "output_type": "execute_result"
    }
   ],
   "source": [
    "torch.ones_like(t4)"
   ]
  },
  {
   "cell_type": "code",
   "execution_count": 33,
   "id": "8843ef61",
   "metadata": {},
   "outputs": [
    {
     "data": {
      "text/plain": [
       "tensor([[[0., 0.]],\n",
       "\n",
       "        [[0., 0.]],\n",
       "\n",
       "        [[0., 0.]]])"
      ]
     },
     "execution_count": 33,
     "metadata": {},
     "output_type": "execute_result"
    }
   ],
   "source": [
    "torch.zeros_like(t4)"
   ]
  },
  {
   "cell_type": "code",
   "execution_count": 34,
   "id": "bf7caba0",
   "metadata": {},
   "outputs": [],
   "source": [
    "X_train = torch.FloatTensor([[1],[2],[3]])\n",
    "y_train = torch.FloatTensor([[2],[4],[6]]) #dataset을 얻음"
   ]
  },
  {
   "cell_type": "code",
   "execution_count": null,
   "id": "6f78168a",
   "metadata": {},
   "outputs": [],
   "source": [
    "# 가설 설정\n",
    "# Y = W*x + b (직선의 방정식을 따를 것이다)\n",
    "# 기존 머신러닝 : MSE평균제곱오차였으나 \n",
    "# cost function(비용함수) = loss function(손실함수) = error function(오차함수)\n",
    "# 옵티마이저 : 기울기가 0인 곳을 꼭짓점이라고 인식(최적의 점)\n",
    "# 경사하강법(Gradient Descent) : 옵티마이저가 하는 일 (Ex.머신러닝에서는 fit)"
   ]
  },
  {
   "cell_type": "code",
   "execution_count": 35,
   "id": "24aac6dd",
   "metadata": {},
   "outputs": [
    {
     "name": "stdout",
     "output_type": "stream",
     "text": [
      "tensor([[1.],\n",
      "        [2.],\n",
      "        [3.]])\n",
      "torch.Size([3, 1])\n"
     ]
    }
   ],
   "source": [
    "print(X_train) #2차원 배열로 들어감\n",
    "print(X_train.shape)"
   ]
  },
  {
   "cell_type": "code",
   "execution_count": 36,
   "id": "da38d686",
   "metadata": {},
   "outputs": [
    {
     "name": "stdout",
     "output_type": "stream",
     "text": [
      "tensor([[2.],\n",
      "        [4.],\n",
      "        [6.]])\n",
      "torch.Size([3, 1])\n"
     ]
    }
   ],
   "source": [
    "print(y_train) #2차원 배열로 들어감\n",
    "print(y_train.shape)"
   ]
  },
  {
   "cell_type": "code",
   "execution_count": 41,
   "id": "fe25fd4d",
   "metadata": {},
   "outputs": [
    {
     "name": "stdout",
     "output_type": "stream",
     "text": [
      "tensor([0.], requires_grad=True)\n"
     ]
    }
   ],
   "source": [
    "W = torch.zeros(1,requires_grad = True) # 모델 초기화\n",
    "print(W)"
   ]
  },
  {
   "cell_type": "code",
   "execution_count": 42,
   "id": "355302f5",
   "metadata": {},
   "outputs": [
    {
     "name": "stdout",
     "output_type": "stream",
     "text": [
      "tensor([0.], requires_grad=True)\n"
     ]
    }
   ],
   "source": [
    "b = torch.zeros(1,requires_grad = True)\n",
    "print(b)"
   ]
  },
  {
   "cell_type": "code",
   "execution_count": 43,
   "id": "1efcd4f7",
   "metadata": {},
   "outputs": [
    {
     "name": "stdout",
     "output_type": "stream",
     "text": [
      "tensor([[0.],\n",
      "        [0.],\n",
      "        [0.]], grad_fn=<AddBackward0>)\n"
     ]
    }
   ],
   "source": [
    "hypothesis = X_train*W+b\n",
    "print(hypothesis)"
   ]
  },
  {
   "cell_type": "code",
   "execution_count": 44,
   "id": "8bd4cdfa",
   "metadata": {},
   "outputs": [
    {
     "name": "stdout",
     "output_type": "stream",
     "text": [
      "tensor(18.6667, grad_fn=<MeanBackward0>)\n"
     ]
    }
   ],
   "source": [
    "cost = torch.mean((hypothesis-y_train)**2)\n",
    "print(cost)"
   ]
  },
  {
   "cell_type": "code",
   "execution_count": 46,
   "id": "9fd2e8d9",
   "metadata": {},
   "outputs": [],
   "source": [
    "import torch.optim as optim\n",
    "optimizer = optim.SGD([W,b], lr=0.01)"
   ]
  },
  {
   "cell_type": "code",
   "execution_count": 47,
   "id": "0a03996a",
   "metadata": {},
   "outputs": [],
   "source": [
    "optimizer.zero_grad()\n",
    "cost.backward()\n",
    "optimizer.step()"
   ]
  },
  {
   "cell_type": "code",
   "execution_count": 57,
   "id": "f3daaecf",
   "metadata": {},
   "outputs": [
    {
     "name": "stdout",
     "output_type": "stream",
     "text": [
      "Epoch   0/2000 W:0.019, b:0.008 cost:18.66667\n",
      "Epoch 200/2000 W:1.513, b:0.624 cost:0.28531\n",
      "Epoch 400/2000 W:1.686, b:0.661 cost:0.06679\n",
      "Epoch 600/2000 W:1.717, b:0.637 cost:0.05845\n",
      "Epoch 800/2000 W:1.732, b:0.608 cost:0.05306\n",
      "Epoch1000/2000 W:1.745, b:0.579 cost:0.04820\n",
      "Epoch1200/2000 W:1.757, b:0.552 cost:0.04378\n",
      "Epoch1400/2000 W:1.768, b:0.526 cost:0.03976\n",
      "Epoch1600/2000 W:1.779, b:0.502 cost:0.03612\n",
      "Epoch1800/2000 W:1.790, b:0.478 cost:0.03281\n"
     ]
    }
   ],
   "source": [
    "import torch\n",
    "import torch.optim as optim\n",
    "import matplotlib.pyplot as plt\n",
    "\n",
    "X_train = torch.FloatTensor([[1],[2],[3]])\n",
    "y_train = torch.FloatTensor([[2],[4],[6]]) # 데이터셋 만들기\n",
    "\n",
    "W = torch.zeros(1,requires_grad = True) # 기울기를 0으로 만들어놓기\n",
    "b = torch.zeros(1,requires_grad = True) # 절편을 0으로 만들어놓기\n",
    "\n",
    "optimizer = optim.SGD([W,b], lr=0.001) # learning rate를 조절(짧게짧게 가서 더 자세히 보기)\n",
    "nb_epochs = 2000\n",
    "list_cost = []\n",
    "\n",
    "for epoch in range(nb_epochs):\n",
    "    hypothesis = X_train*W+b #현재상태를 체크(가설)\n",
    "    cost = torch.mean((hypothesis-y_train)**2) # mean : 평균 / **2 : 제곱 / hypothesis-y_train : 오차\n",
    "    \n",
    "    optimizer.zero_grad() #위에서 설정한 W와 b를 바꿔줌\n",
    "    cost.backward()\n",
    "    optimizer.step() #단계적으로 실행\n",
    "    \n",
    "    if epoch % 200 == 0 :\n",
    "        #list_cost.append(cost.item())\n",
    "        print('Epoch{:4d}/{} W:{:.3f}, b:{:.3f} cost:{:.5f}'.format(epoch, nb_epochs, W.item(),b.item(),cost.item()))\n",
    "\n",
    "#print(len(list_cost))        \n",
    "#plt.plot(range(100), list_cost)\n",
    "#plt.show()"
   ]
  },
  {
   "cell_type": "code",
   "execution_count": null,
   "id": "6ca3f5ba",
   "metadata": {},
   "outputs": [],
   "source": [
    "# 가설 설정 : x가 3개인 다변량 회귀\n",
    "# y = W1*x1 + W2*x2 + W3*x3 + b"
   ]
  },
  {
   "cell_type": "code",
   "execution_count": 63,
   "id": "31f4b7cf",
   "metadata": {},
   "outputs": [
    {
     "name": "stdout",
     "output_type": "stream",
     "text": [
      "Epoch   0/200000 W1:0.029,W2:0.029,W3:0.030, b:0.000 cost:29661.80078\n",
      "Epoch2000/200000 W1:0.679,W2:0.655,W3:0.677, b:0.008 cost:1.49766\n",
      "Epoch4000/200000 W1:0.689,W2:0.644,W3:0.678, b:0.008 cost:1.37586\n",
      "Epoch6000/200000 W1:0.699,W2:0.633,W3:0.679, b:0.009 cost:1.26640\n",
      "Epoch8000/200000 W1:0.709,W2:0.622,W3:0.679, b:0.009 cost:1.16804\n",
      "Epoch10000/200000 W1:0.718,W2:0.613,W3:0.680, b:0.009 cost:1.07964\n",
      "Epoch12000/200000 W1:0.726,W2:0.603,W3:0.681, b:0.010 cost:1.00016\n",
      "Epoch14000/200000 W1:0.735,W2:0.595,W3:0.681, b:0.010 cost:0.92873\n",
      "Epoch16000/200000 W1:0.742,W2:0.587,W3:0.682, b:0.010 cost:0.86448\n",
      "Epoch18000/200000 W1:0.750,W2:0.579,W3:0.682, b:0.010 cost:0.80670\n",
      "Epoch20000/200000 W1:0.757,W2:0.571,W3:0.682, b:0.011 cost:0.75468\n",
      "Epoch22000/200000 W1:0.764,W2:0.565,W3:0.682, b:0.011 cost:0.70790\n",
      "Epoch24000/200000 W1:0.770,W2:0.558,W3:0.682, b:0.011 cost:0.66579\n",
      "Epoch26000/200000 W1:0.776,W2:0.552,W3:0.682, b:0.011 cost:0.62786\n",
      "Epoch28000/200000 W1:0.782,W2:0.546,W3:0.682, b:0.012 cost:0.59370\n",
      "Epoch30000/200000 W1:0.788,W2:0.541,W3:0.682, b:0.012 cost:0.56291\n",
      "Epoch32000/200000 W1:0.793,W2:0.535,W3:0.682, b:0.012 cost:0.53516\n",
      "Epoch34000/200000 W1:0.798,W2:0.531,W3:0.682, b:0.012 cost:0.51013\n",
      "Epoch36000/200000 W1:0.803,W2:0.526,W3:0.681, b:0.013 cost:0.48754\n",
      "Epoch38000/200000 W1:0.808,W2:0.522,W3:0.681, b:0.013 cost:0.46714\n",
      "Epoch40000/200000 W1:0.812,W2:0.517,W3:0.681, b:0.013 cost:0.44871\n",
      "Epoch42000/200000 W1:0.817,W2:0.514,W3:0.680, b:0.013 cost:0.43209\n",
      "Epoch44000/200000 W1:0.821,W2:0.510,W3:0.680, b:0.014 cost:0.41701\n",
      "Epoch46000/200000 W1:0.825,W2:0.507,W3:0.679, b:0.014 cost:0.40340\n",
      "Epoch48000/200000 W1:0.828,W2:0.503,W3:0.679, b:0.014 cost:0.39106\n",
      "Epoch50000/200000 W1:0.832,W2:0.500,W3:0.678, b:0.014 cost:0.37982\n",
      "Epoch52000/200000 W1:0.835,W2:0.497,W3:0.678, b:0.014 cost:0.36968\n",
      "Epoch54000/200000 W1:0.839,W2:0.495,W3:0.677, b:0.015 cost:0.36046\n",
      "Epoch56000/200000 W1:0.842,W2:0.492,W3:0.676, b:0.015 cost:0.35208\n",
      "Epoch58000/200000 W1:0.845,W2:0.490,W3:0.676, b:0.015 cost:0.34442\n",
      "Epoch60000/200000 W1:0.848,W2:0.488,W3:0.675, b:0.015 cost:0.33744\n",
      "Epoch62000/200000 W1:0.850,W2:0.486,W3:0.674, b:0.016 cost:0.33108\n",
      "Epoch64000/200000 W1:0.853,W2:0.484,W3:0.674, b:0.016 cost:0.32526\n",
      "Epoch66000/200000 W1:0.856,W2:0.482,W3:0.673, b:0.016 cost:0.31994\n",
      "Epoch68000/200000 W1:0.858,W2:0.480,W3:0.672, b:0.016 cost:0.31503\n",
      "Epoch70000/200000 W1:0.861,W2:0.479,W3:0.671, b:0.016 cost:0.31055\n",
      "Epoch72000/200000 W1:0.863,W2:0.477,W3:0.671, b:0.017 cost:0.30639\n",
      "Epoch74000/200000 W1:0.865,W2:0.476,W3:0.670, b:0.017 cost:0.30254\n",
      "Epoch76000/200000 W1:0.867,W2:0.474,W3:0.669, b:0.017 cost:0.29901\n",
      "Epoch78000/200000 W1:0.869,W2:0.473,W3:0.668, b:0.017 cost:0.29576\n",
      "Epoch80000/200000 W1:0.871,W2:0.472,W3:0.667, b:0.018 cost:0.29273\n",
      "Epoch82000/200000 W1:0.873,W2:0.471,W3:0.666, b:0.018 cost:0.28994\n",
      "Epoch84000/200000 W1:0.875,W2:0.470,W3:0.666, b:0.018 cost:0.28731\n",
      "Epoch86000/200000 W1:0.877,W2:0.469,W3:0.665, b:0.018 cost:0.28488\n",
      "Epoch88000/200000 W1:0.879,W2:0.468,W3:0.664, b:0.018 cost:0.28256\n",
      "Epoch90000/200000 W1:0.880,W2:0.467,W3:0.663, b:0.019 cost:0.28042\n",
      "Epoch92000/200000 W1:0.882,W2:0.467,W3:0.662, b:0.019 cost:0.27835\n",
      "Epoch94000/200000 W1:0.884,W2:0.466,W3:0.661, b:0.019 cost:0.27643\n",
      "Epoch96000/200000 W1:0.885,W2:0.465,W3:0.660, b:0.019 cost:0.27460\n",
      "Epoch98000/200000 W1:0.887,W2:0.465,W3:0.659, b:0.019 cost:0.27284\n",
      "Epoch100000/200000 W1:0.888,W2:0.464,W3:0.658, b:0.020 cost:0.27120\n",
      "Epoch102000/200000 W1:0.890,W2:0.464,W3:0.657, b:0.020 cost:0.26962\n",
      "Epoch104000/200000 W1:0.891,W2:0.463,W3:0.656, b:0.020 cost:0.26811\n",
      "Epoch106000/200000 W1:0.892,W2:0.463,W3:0.655, b:0.020 cost:0.26669\n",
      "Epoch108000/200000 W1:0.894,W2:0.463,W3:0.654, b:0.020 cost:0.26531\n",
      "Epoch110000/200000 W1:0.895,W2:0.462,W3:0.653, b:0.021 cost:0.26397\n",
      "Epoch112000/200000 W1:0.896,W2:0.462,W3:0.652, b:0.021 cost:0.26271\n",
      "Epoch114000/200000 W1:0.897,W2:0.462,W3:0.651, b:0.021 cost:0.26149\n",
      "Epoch116000/200000 W1:0.899,W2:0.462,W3:0.651, b:0.021 cost:0.26030\n",
      "Epoch118000/200000 W1:0.900,W2:0.461,W3:0.650, b:0.021 cost:0.25914\n",
      "Epoch120000/200000 W1:0.901,W2:0.461,W3:0.649, b:0.021 cost:0.25803\n",
      "Epoch122000/200000 W1:0.902,W2:0.461,W3:0.648, b:0.022 cost:0.25697\n",
      "Epoch124000/200000 W1:0.903,W2:0.461,W3:0.647, b:0.022 cost:0.25591\n",
      "Epoch126000/200000 W1:0.904,W2:0.461,W3:0.646, b:0.022 cost:0.25487\n",
      "Epoch128000/200000 W1:0.905,W2:0.461,W3:0.645, b:0.022 cost:0.25387\n",
      "Epoch130000/200000 W1:0.906,W2:0.461,W3:0.644, b:0.022 cost:0.25289\n",
      "Epoch132000/200000 W1:0.907,W2:0.461,W3:0.643, b:0.023 cost:0.25195\n",
      "Epoch134000/200000 W1:0.908,W2:0.461,W3:0.642, b:0.023 cost:0.25101\n",
      "Epoch136000/200000 W1:0.909,W2:0.461,W3:0.641, b:0.023 cost:0.25010\n",
      "Epoch138000/200000 W1:0.910,W2:0.461,W3:0.640, b:0.023 cost:0.24918\n",
      "Epoch140000/200000 W1:0.911,W2:0.461,W3:0.639, b:0.023 cost:0.24828\n",
      "Epoch142000/200000 W1:0.912,W2:0.461,W3:0.638, b:0.023 cost:0.24742\n",
      "Epoch144000/200000 W1:0.913,W2:0.461,W3:0.637, b:0.024 cost:0.24655\n",
      "Epoch146000/200000 W1:0.914,W2:0.461,W3:0.636, b:0.024 cost:0.24571\n",
      "Epoch148000/200000 W1:0.914,W2:0.461,W3:0.635, b:0.024 cost:0.24490\n",
      "Epoch150000/200000 W1:0.915,W2:0.461,W3:0.634, b:0.024 cost:0.24408\n",
      "Epoch152000/200000 W1:0.916,W2:0.461,W3:0.633, b:0.024 cost:0.24327\n",
      "Epoch154000/200000 W1:0.917,W2:0.462,W3:0.632, b:0.025 cost:0.24247\n",
      "Epoch156000/200000 W1:0.918,W2:0.462,W3:0.632, b:0.025 cost:0.24167\n",
      "Epoch158000/200000 W1:0.919,W2:0.462,W3:0.631, b:0.025 cost:0.24088\n",
      "Epoch160000/200000 W1:0.919,W2:0.462,W3:0.630, b:0.025 cost:0.24010\n",
      "Epoch162000/200000 W1:0.920,W2:0.462,W3:0.629, b:0.025 cost:0.23933\n",
      "Epoch164000/200000 W1:0.921,W2:0.462,W3:0.628, b:0.025 cost:0.23858\n",
      "Epoch166000/200000 W1:0.922,W2:0.462,W3:0.627, b:0.026 cost:0.23788\n",
      "Epoch168000/200000 W1:0.922,W2:0.463,W3:0.626, b:0.026 cost:0.23719\n",
      "Epoch170000/200000 W1:0.923,W2:0.463,W3:0.625, b:0.026 cost:0.23650\n",
      "Epoch172000/200000 W1:0.924,W2:0.463,W3:0.624, b:0.026 cost:0.23581\n",
      "Epoch174000/200000 W1:0.924,W2:0.463,W3:0.623, b:0.026 cost:0.23511\n",
      "Epoch176000/200000 W1:0.925,W2:0.463,W3:0.622, b:0.026 cost:0.23444\n",
      "Epoch178000/200000 W1:0.926,W2:0.464,W3:0.622, b:0.027 cost:0.23376\n",
      "Epoch180000/200000 W1:0.927,W2:0.464,W3:0.621, b:0.027 cost:0.23309\n",
      "Epoch182000/200000 W1:0.927,W2:0.464,W3:0.620, b:0.027 cost:0.23242\n",
      "Epoch184000/200000 W1:0.928,W2:0.464,W3:0.619, b:0.027 cost:0.23176\n",
      "Epoch186000/200000 W1:0.929,W2:0.464,W3:0.618, b:0.027 cost:0.23114\n",
      "Epoch188000/200000 W1:0.929,W2:0.464,W3:0.617, b:0.027 cost:0.23053\n",
      "Epoch190000/200000 W1:0.930,W2:0.465,W3:0.616, b:0.028 cost:0.22993\n",
      "Epoch192000/200000 W1:0.931,W2:0.465,W3:0.616, b:0.028 cost:0.22934\n",
      "Epoch194000/200000 W1:0.931,W2:0.465,W3:0.615, b:0.028 cost:0.22873\n",
      "Epoch196000/200000 W1:0.932,W2:0.465,W3:0.614, b:0.028 cost:0.22814\n",
      "Epoch198000/200000 W1:0.932,W2:0.466,W3:0.613, b:0.028 cost:0.22756\n"
     ]
    }
   ],
   "source": [
    "import torch\n",
    "import torch.optim as optim\n",
    "import matplotlib.pyplot as plt\n",
    "\n",
    "X1_train = torch.FloatTensor([[73],[93],[89],[96],[73]])\n",
    "X2_train = torch.FloatTensor([[80],[88],[91],[98],[66]])\n",
    "X3_train = torch.FloatTensor([[75],[93],[90],[100],[70]])\n",
    "\n",
    "y_train = torch.FloatTensor([[152],[185],[180],[196],[142]])\n",
    "\n",
    "W1 = torch.zeros(1,requires_grad = True) # 변수 : 우리가 찾아야 하는 숫자 \n",
    "W2 = torch.zeros(1,requires_grad = True)\n",
    "W3 = torch.zeros(1,requires_grad = True)\n",
    "b = torch.zeros(1,requires_grad = True)\n",
    "\n",
    "optimizer = optim.SGD([W1,W2,W3,b], lr=0.000001) #learning rate를 잘 찾는 것이 중요\n",
    "nb_epochs = 200000 # 총 epochs : 몇 개 할 것인지\n",
    "\n",
    "for epoch in range(nb_epochs):\n",
    "    hypothesis = X1_train*W1+X2_train*W2+X3_train*W3+b #predict값을 추정\n",
    "    cost = torch.mean((hypothesis-y_train)**2) \n",
    "    \n",
    "    optimizer.zero_grad() \n",
    "    cost.backward()\n",
    "    optimizer.step() \n",
    "    \n",
    "    if epoch % 2000 == 0 :  \n",
    "        print('Epoch{:4d}/{} W1:{:.3f},W2:{:.3f},W3:{:.3f}, b:{:.3f} cost:{:.5f}'.format(epoch, nb_epochs, W1.item(),W2.item(),W3.item(),b.item(),cost.item()))"
   ]
  },
  {
   "cell_type": "code",
   "execution_count": 78,
   "id": "c8cd3431",
   "metadata": {},
   "outputs": [
    {
     "name": "stdout",
     "output_type": "stream",
     "text": [
      "Epoch   0/2000 loss:5.78253\n",
      "Epoch 100/2000 loss:0.03754\n",
      "Epoch 200/2000 loss:0.02320\n",
      "Epoch 300/2000 loss:0.01434\n",
      "Epoch 400/2000 loss:0.00886\n",
      "Epoch 500/2000 loss:0.00547\n",
      "Epoch 600/2000 loss:0.00338\n",
      "Epoch 700/2000 loss:0.00209\n",
      "Epoch 800/2000 loss:0.00129\n",
      "Epoch 900/2000 loss:0.00080\n",
      "Epoch1000/2000 loss:0.00049\n",
      "Epoch1100/2000 loss:0.00030\n",
      "Epoch1200/2000 loss:0.00019\n",
      "Epoch1300/2000 loss:0.00012\n",
      "Epoch1400/2000 loss:0.00007\n",
      "Epoch1500/2000 loss:0.00004\n",
      "Epoch1600/2000 loss:0.00003\n",
      "Epoch1700/2000 loss:0.00002\n",
      "Epoch1800/2000 loss:0.00001\n",
      "Epoch1900/2000 loss:0.00001\n",
      "Epoch2000/2000 loss:0.00000\n"
     ]
    }
   ],
   "source": [
    "import torch.nn as nn\n",
    "import torch.nn.functional as F\n",
    "\n",
    "X_train = torch.FloatTensor([[1],[2],[3]])\n",
    "y_train = torch.FloatTensor([[2],[4],[6]])\n",
    "model = nn.Linear(1, 1) # (input_dim=1, output_dim=1) 간단한 머신러닝 장치\n",
    "# print(list(model.parameters())) # tensor([[-0.7252]] : W자리 / tensor([-0.9357] : b자리\n",
    "\n",
    "optimizer = optim.SGD(model.parameters(), lr=0.01) \n",
    "\n",
    "nb_epochs = 2000\n",
    "for epoch in range(nb_epochs+1):\n",
    "    prediction = model(X_train)\n",
    "    cost = F.mse_loss(prediction, y_train)\n",
    "    \n",
    "    optimizer.zero_grad() \n",
    "    cost.backward()\n",
    "    optimizer.step() \n",
    "    \n",
    "    if epoch % 100 == 0 :\n",
    "        print('Epoch{:4d}/{} loss:{:.5f}'.format(epoch, nb_epochs, cost.item()))"
   ]
  },
  {
   "cell_type": "code",
   "execution_count": 79,
   "id": "883d04f5",
   "metadata": {},
   "outputs": [
    {
     "data": {
      "text/plain": [
       "tensor([[3.0018]], grad_fn=<AddmmBackward>)"
      ]
     },
     "execution_count": 79,
     "metadata": {},
     "output_type": "execute_result"
    }
   ],
   "source": [
    "new_input = torch.FloatTensor([[1.5]])\n",
    "pred_y = model(new_input)\n",
    "pred_y"
   ]
  }
 ],
 "metadata": {
  "kernelspec": {
   "display_name": "Python 3",
   "language": "python",
   "name": "python3"
  },
  "language_info": {
   "codemirror_mode": {
    "name": "ipython",
    "version": 3
   },
   "file_extension": ".py",
   "mimetype": "text/x-python",
   "name": "python",
   "nbconvert_exporter": "python",
   "pygments_lexer": "ipython3",
   "version": "3.8.8"
  }
 },
 "nbformat": 4,
 "nbformat_minor": 5
}
