{
 "cells": [
  {
   "cell_type": "code",
   "execution_count": 1,
   "id": "43662234",
   "metadata": {},
   "outputs": [
    {
     "data": {
      "text/plain": [
       "True"
      ]
     },
     "execution_count": 1,
     "metadata": {},
     "output_type": "execute_result"
    }
   ],
   "source": [
    "1 in [1, 2, 3]"
   ]
  },
  {
   "cell_type": "code",
   "execution_count": 2,
   "id": "455e3a5c",
   "metadata": {},
   "outputs": [
    {
     "data": {
      "text/plain": [
       "True"
      ]
     },
     "execution_count": 2,
     "metadata": {},
     "output_type": "execute_result"
    }
   ],
   "source": [
    "4 not in [1, 2, 3]\n",
    "# 해당 범위에 없는지 확인"
   ]
  },
  {
   "cell_type": "code",
   "execution_count": 3,
   "id": "b8536a34",
   "metadata": {},
   "outputs": [],
   "source": [
    "a = 1\n",
    "if a == 1:\n",
    "    pass\n",
    "#pass로 나중에 할 것이라고 적어놓고 놓치지 않을 수 있음"
   ]
  },
  {
   "cell_type": "code",
   "execution_count": 4,
   "id": "4a0983e6",
   "metadata": {},
   "outputs": [
    {
     "name": "stdout",
     "output_type": "stream",
     "text": [
      "a는 1\n",
      "Good Bye\n"
     ]
    }
   ],
   "source": [
    "a = 1\n",
    "if a == 1: print(\"a는 1\")\n",
    "print(\"Good Bye\")\n",
    "#Good Bye와 a는 1은 무관하게 처리됨"
   ]
  },
  {
   "cell_type": "code",
   "execution_count": 5,
   "id": "fbfb30f3",
   "metadata": {},
   "outputs": [
    {
     "name": "stdout",
     "output_type": "stream",
     "text": [
      "Good Bye\n"
     ]
    }
   ],
   "source": [
    "a = 0\n",
    "if a == 1: print(\"a는 1\")\n",
    "print(\"Good Bye\")"
   ]
  },
  {
   "cell_type": "code",
   "execution_count": 6,
   "id": "dc18f420",
   "metadata": {},
   "outputs": [
    {
     "name": "stdout",
     "output_type": "stream",
     "text": [
      "나무를 1번 찍었습니다.\n",
      "나무를 2번 찍었습니다.\n",
      "나무를 3번 찍었습니다.\n",
      "나무를 4번 찍었습니다.\n",
      "나무를 5번 찍었습니다.\n",
      "나무를 6번 찍었습니다.\n",
      "나무를 7번 찍었습니다.\n",
      "나무를 8번 찍었습니다.\n",
      "나무를 9번 찍었습니다.\n",
      "나무를 10번 찍었습니다.\n",
      "나무 넘어갑니다.\n"
     ]
    }
   ],
   "source": [
    "# 초기값 설정해줘야 함\n",
    "treeHit = 1\n",
    "while treeHit <= 10:\n",
    "    print(\"나무를 \"+str(treeHit)+\"번 찍었습니다.\")\n",
    "    if treeHit == 10: print(\"나무 넘어갑니다.\")\n",
    "    treeHit += 1  #treeHit = treeHit + 1\n",
    "    "
   ]
  },
  {
   "cell_type": "code",
   "execution_count": 7,
   "id": "1775e966",
   "metadata": {},
   "outputs": [
    {
     "name": "stdout",
     "output_type": "stream",
     "text": [
      "정수를 입력하세요3\n",
      "3\n"
     ]
    }
   ],
   "source": [
    "a = input(\"정수를 입력하세요\")\n",
    "print(a)"
   ]
  },
  {
   "cell_type": "code",
   "execution_count": 8,
   "id": "d569c3cb",
   "metadata": {},
   "outputs": [
    {
     "name": "stdout",
     "output_type": "stream",
     "text": [
      "정수를 입력하세요3\n",
      "4\n"
     ]
    }
   ],
   "source": [
    "a = input(\"정수를 입력하세요\")\n",
    "a = int(a) + 1\n",
    "print(a)"
   ]
  },
  {
   "cell_type": "code",
   "execution_count": 9,
   "id": "b05f9436",
   "metadata": {},
   "outputs": [
    {
     "name": "stdout",
     "output_type": "stream",
     "text": [
      "온도를 입력하세요3\n",
      "온도를 입력하세요\n"
     ]
    },
    {
     "ename": "ValueError",
     "evalue": "invalid literal for int() with base 10: ''",
     "output_type": "error",
     "traceback": [
      "\u001b[1;31m---------------------------------------------------------------------------\u001b[0m",
      "\u001b[1;31mValueError\u001b[0m                                Traceback (most recent call last)",
      "\u001b[1;32m<ipython-input-9-e67eac75ec4d>\u001b[0m in \u001b[0;36m<module>\u001b[1;34m\u001b[0m\n\u001b[0;32m      3\u001b[0m \u001b[1;32mwhile\u001b[0m \u001b[0mcount\u001b[0m \u001b[1;33m<\u001b[0m \u001b[1;36m4\u001b[0m\u001b[1;33m:\u001b[0m\u001b[1;33m\u001b[0m\u001b[1;33m\u001b[0m\u001b[0m\n\u001b[0;32m      4\u001b[0m     \u001b[0mrecieved\u001b[0m \u001b[1;33m=\u001b[0m \u001b[0minput\u001b[0m\u001b[1;33m(\u001b[0m\u001b[1;34m\"온도를 입력하세요\"\u001b[0m\u001b[1;33m)\u001b[0m\u001b[1;33m\u001b[0m\u001b[1;33m\u001b[0m\u001b[0m\n\u001b[1;32m----> 5\u001b[1;33m     \u001b[0mrecieved\u001b[0m \u001b[1;33m=\u001b[0m \u001b[0mint\u001b[0m\u001b[1;33m(\u001b[0m\u001b[0mrecieved\u001b[0m\u001b[1;33m)\u001b[0m\u001b[1;33m\u001b[0m\u001b[1;33m\u001b[0m\u001b[0m\n\u001b[0m\u001b[0;32m      6\u001b[0m     \u001b[0mlist_a\u001b[0m\u001b[1;33m.\u001b[0m\u001b[0mappend\u001b[0m\u001b[1;33m(\u001b[0m\u001b[0mrecieved\u001b[0m\u001b[1;33m)\u001b[0m\u001b[1;33m\u001b[0m\u001b[1;33m\u001b[0m\u001b[0m\n\u001b[0;32m      7\u001b[0m     \u001b[0mcount\u001b[0m \u001b[1;33m+=\u001b[0m \u001b[1;36m1\u001b[0m\u001b[1;33m\u001b[0m\u001b[1;33m\u001b[0m\u001b[0m\n",
      "\u001b[1;31mValueError\u001b[0m: invalid literal for int() with base 10: ''"
     ]
    }
   ],
   "source": [
    "list_a = []\n",
    "count = 0\n",
    "while count < 4:\n",
    "    recieved = input(\"온도를 입력하세요\")\n",
    "    recieved = int(recieved)\n",
    "    list_a.append(recieved)\n",
    "    count += 1\n",
    "print(list_a)\n"
   ]
  },
  {
   "cell_type": "code",
   "execution_count": 13,
   "id": "5d903fd9",
   "metadata": {},
   "outputs": [
    {
     "name": "stdout",
     "output_type": "stream",
     "text": [
      "온도를 입력하세요 단, 입력을 멈추려면 -500을 입력하세요\n",
      "온도를 입력하세요4\n",
      "온도를 입력하세요6\n",
      "온도를 입력하세요6\n",
      "온도를 입력하세요6\n",
      "온도를 입력하세요6\n",
      "온도를 입력하세요100\n",
      "온도를 입력하세요300\n",
      "온도를 입력하세요-500\n",
      "[4, 6, 6, 6, 6]\n"
     ]
    }
   ],
   "source": [
    "list_a = []\n",
    "count = 1\n",
    "print(\"온도를 입력하세요 단, 입력을 멈추려면 -500을 입력하세요\")\n",
    "while True:\n",
    "    recieved = input(\"온도를 입력하세요\")\n",
    "    recieved = int(recieved)\n",
    "    if recieved == -500: break\n",
    "    if recieved > 50 or recieved < -40: continue #continue : recieved에 100이 들어왔을때 append를 안하고 다음작업 수행\n",
    "    list_a.append(recieved)\n",
    "print(list_a)"
   ]
  },
  {
   "cell_type": "code",
   "execution_count": 15,
   "id": "3a1b4bc4",
   "metadata": {},
   "outputs": [
    {
     "name": "stdout",
     "output_type": "stream",
     "text": [
      "range(0, 10)\n"
     ]
    }
   ],
   "source": [
    "a = range(10)\n",
    "print(a)"
   ]
  },
  {
   "cell_type": "code",
   "execution_count": 18,
   "id": "d85b9494",
   "metadata": {},
   "outputs": [
    {
     "name": "stdout",
     "output_type": "stream",
     "text": [
      "0 1 2 3 4 5 6 7 8 9 "
     ]
    }
   ],
   "source": [
    "for i in range(10):\n",
    "    print(i, end=\" \") #end는 기본적으로 줄바꿈이 설정되어있음(옆으로 정렬되라고 space침)"
   ]
  },
  {
   "cell_type": "code",
   "execution_count": 20,
   "id": "72067b2f",
   "metadata": {},
   "outputs": [
    {
     "name": "stdout",
     "output_type": "stream",
     "text": [
      "5 6 7 8 9 "
     ]
    }
   ],
   "source": [
    "for i in range(5, 10):\n",
    "    print(i, end=\" \") "
   ]
  },
  {
   "cell_type": "code",
   "execution_count": 22,
   "id": "98484f28",
   "metadata": {},
   "outputs": [
    {
     "name": "stdout",
     "output_type": "stream",
     "text": [
      "1 3 5 7 9 "
     ]
    }
   ],
   "source": [
    "for i in range(1, 11, 2):\n",
    "    print(i, end=\" \") #마지막은 간격을 설정 / 큰 숫자를 하기엔 range가 더 효율적이기 때문에 "
   ]
  },
  {
   "cell_type": "code",
   "execution_count": 27,
   "id": "1276aa66",
   "metadata": {},
   "outputs": [
    {
     "name": "stdout",
     "output_type": "stream",
     "text": [
      "10 9 8 7 6 5 4 3 2 1 "
     ]
    }
   ],
   "source": [
    "for i in range(10,0,-1):\n",
    "    print(i, end = \" \") #count down은 -1로 주고 설정"
   ]
  },
  {
   "cell_type": "code",
   "execution_count": 140,
   "id": "d9024963",
   "metadata": {},
   "outputs": [
    {
     "name": "stdout",
     "output_type": "stream",
     "text": [
      "1 4 7 10 "
     ]
    }
   ],
   "source": [
    "for i in [1, 4, 7, 10]:\n",
    "    print(i, end=\" \") # range를 쓰지 않고 list를 써서 사용하는 방법"
   ]
  },
  {
   "cell_type": "code",
   "execution_count": 141,
   "id": "ceced5fe",
   "metadata": {},
   "outputs": [
    {
     "name": "stdout",
     "output_type": "stream",
     "text": [
      "1 4 7 10 "
     ]
    }
   ],
   "source": [
    "a = [1,4,7,10]\n",
    "for i in a:\n",
    "    print(i, end=\" \")"
   ]
  },
  {
   "cell_type": "code",
   "execution_count": 142,
   "id": "162fb40f",
   "metadata": {},
   "outputs": [
    {
     "name": "stdout",
     "output_type": "stream",
     "text": [
      "[3, 6, 9, 12] "
     ]
    }
   ],
   "source": [
    "a = [1,2,3,4]\n",
    "res = []\n",
    "for num in a:\n",
    "    res.append(num*3)\n",
    "print(res,end=\" \")"
   ]
  },
  {
   "cell_type": "code",
   "execution_count": 143,
   "id": "26d14f27",
   "metadata": {},
   "outputs": [
    {
     "name": "stdout",
     "output_type": "stream",
     "text": [
      "[6, 12] "
     ]
    }
   ],
   "source": [
    "a = [1,2,3,4]\n",
    "res = [num*3 for num in a if num % 2 == 0]\n",
    "print(res, end=\" \")"
   ]
  },
  {
   "cell_type": "code",
   "execution_count": 144,
   "id": "86960609",
   "metadata": {},
   "outputs": [
    {
     "name": "stdout",
     "output_type": "stream",
     "text": [
      "[6, 12] "
     ]
    }
   ],
   "source": [
    "a = [1,2,3,4]\n",
    "res = []\n",
    "for num in a:\n",
    "    if num % 2 == 0:\n",
    "        res.append(num*3)\n",
    "print(res,end=\" \")"
   ]
  },
  {
   "cell_type": "code",
   "execution_count": 145,
   "id": "e8229735",
   "metadata": {},
   "outputs": [
    {
     "name": "stdout",
     "output_type": "stream",
     "text": [
      "*\n",
      "**\n",
      "***\n",
      "****\n",
      "*****\n"
     ]
    }
   ],
   "source": [
    "i = 0\n",
    "while True:\n",
    "    i += 1\n",
    "    if i > 5: break\n",
    "    print(\"*\"*i)"
   ]
  },
  {
   "cell_type": "code",
   "execution_count": 146,
   "id": "7012b829",
   "metadata": {},
   "outputs": [
    {
     "name": "stdout",
     "output_type": "stream",
     "text": [
      "*\n",
      "**\n",
      "***\n",
      "****\n",
      "*****\n"
     ]
    }
   ],
   "source": [
    "i = 0\n",
    "while True:\n",
    "    i += 1\n",
    "    if i > 5: break\n",
    "    for j in range(i):\n",
    "        print(\"*\",end=\"\")\n",
    "    print(\"\")"
   ]
  },
  {
   "cell_type": "code",
   "execution_count": 147,
   "id": "03bd6c0a",
   "metadata": {},
   "outputs": [
    {
     "name": "stdout",
     "output_type": "stream",
     "text": [
      "79.0\n"
     ]
    }
   ],
   "source": [
    "A = [70, 60, 55, 75, 95, 90, 80, 80, 85, 100]\n",
    "total = 0\n",
    "for score in A:\n",
    "    total += score\n",
    "average = total / len(A)\n",
    "print(average)"
   ]
  },
  {
   "cell_type": "code",
   "execution_count": 148,
   "id": "4c172de0",
   "metadata": {},
   "outputs": [
    {
     "name": "stdout",
     "output_type": "stream",
     "text": [
      "60 59 58 57 56 55 54 53 52 51 50 49 48 47 46 45 44 43 42 41 40 39 38 37 36 35 34 33 32 31 30 29 28 27 26 25 24 23 22 21 20 19 18 17 16 15 14 13 12 11 10 9 8 7 6 5 4 3 2 1 0 \n",
      "발사!\n"
     ]
    }
   ],
   "source": [
    "for i in range(60, -1, -1):\n",
    "    print(i, end=\" \")\n",
    "print(\"\\n발사!\")"
   ]
  },
  {
   "cell_type": "code",
   "execution_count": 149,
   "id": "a2690004",
   "metadata": {},
   "outputs": [
    {
     "name": "stdout",
     "output_type": "stream",
     "text": [
      "60 59 58 57 56 55 54 53 52 51 50 49 48 47 46 45 44 43 42 41 40 39 38 37 36 35 34 33 32 31 30 29 28 27 26 25 24 23 22 21 20 19 18 17 16 15 14 13 12 11 10 9 8 7 6 5 4 3 2 1 0 \n",
      "발사!\n"
     ]
    }
   ],
   "source": [
    "num = 60\n",
    "while num >= 0:\n",
    "    print(num, end=\" \")\n",
    "    num -= 1\n",
    "print(\"\\n발사!\")\n",
    "#print(\"\")\n",
    "#print(\"발사!\")"
   ]
  },
  {
   "cell_type": "code",
   "execution_count": 169,
   "id": "7c3bd028",
   "metadata": {},
   "outputs": [
    {
     "name": "stdout",
     "output_type": "stream",
     "text": [
      "1 2 3 4 5 6 7 8 9 \n",
      "2 4 6 8 10 12 14 16 18 \n",
      "3 6 9 12 15 18 21 24 27 \n",
      "4 8 12 16 20 24 28 32 36 \n",
      "5 10 15 20 25 30 35 40 45 \n",
      "6 12 18 24 30 36 42 48 54 \n",
      "7 14 21 28 35 42 49 56 63 \n",
      "8 16 24 32 40 48 56 64 72 \n",
      "9 18 27 36 45 54 63 72 81 \n"
     ]
    }
   ],
   "source": [
    "for i in range(1,10):\n",
    "    for j in range(1,10):\n",
    "        print(i*j,end=\" \")\n",
    "    print(\"\")"
   ]
  },
  {
   "cell_type": "code",
   "execution_count": 171,
   "id": "01b68758",
   "metadata": {},
   "outputs": [
    {
     "name": "stdout",
     "output_type": "stream",
     "text": [
      "1 2 3 4 5 6 7 8 9 \n",
      "2 4 6 8 10 12 14 16 18 \n",
      "3 6 9 12 15 18 21 24 27 \n",
      "4 8 12 16 20 24 28 32 36 \n",
      "5 10 15 20 25 30 35 40 45 \n",
      "6 12 18 24 30 36 42 48 54 \n",
      "7 14 21 28 35 42 49 56 63 \n",
      "8 16 24 32 40 48 56 64 72 \n",
      "9 18 27 36 45 54 63 72 81 \n"
     ]
    }
   ],
   "source": [
    "for i in [1,2,3,4,5,6,7,8,9]:\n",
    "    for j in [1,2,3,4,5,6,7,8,9]:\n",
    "        print(i*j,end=\" \")\n",
    "    print(\"\")"
   ]
  },
  {
   "cell_type": "code",
   "execution_count": 172,
   "id": "8218f218",
   "metadata": {},
   "outputs": [
    {
     "name": "stdout",
     "output_type": "stream",
     "text": [
      "1 2 3 4 5 6 7 8 9 \n",
      "2 4 6 8 10 12 14 16 18 \n",
      "3 6 9 12 15 18 21 24 27 \n",
      "4 8 12 16 20 24 28 32 36 \n",
      "5 10 15 20 25 30 35 40 45 \n",
      "6 12 18 24 30 36 42 48 54 \n",
      "7 14 21 28 35 42 49 56 63 \n",
      "8 16 24 32 40 48 56 64 72 \n",
      "9 18 27 36 45 54 63 72 81 \n"
     ]
    }
   ],
   "source": [
    "i = 1\n",
    "while i <= 9:\n",
    "    j = 1\n",
    "    while j <= 9:\n",
    "        print(i*j, end=\" \")\n",
    "        j += 1\n",
    "    print(\"\")\n",
    "    i += 1"
   ]
  },
  {
   "cell_type": "code",
   "execution_count": 249,
   "id": "1dd7dd0a",
   "metadata": {},
   "outputs": [
    {
     "name": "stdout",
     "output_type": "stream",
     "text": [
      "1 * * * * * *  \n",
      "1 2 * * * * *  \n",
      "1 2 3 * * * *  \n",
      "1 2 3 4 * * *  \n",
      "1 2 3 4 5 * *  \n",
      "1 2 3 4 5 6 *  \n",
      "1 2 3 4 5 6 7  \n"
     ]
    }
   ],
   "source": [
    "for i in range(1,8):\n",
    "    # 숫자 출력\n",
    "    for j in range(1,i+1):\n",
    "        print(j,end=\" \")\n",
    "    # 별 출력\n",
    "    for j in range(1,8-i):\n",
    "        print(\"*\",end=\" \")\n",
    "    print(\" \")"
   ]
  },
  {
   "cell_type": "code",
   "execution_count": 252,
   "id": "f22869e3",
   "metadata": {},
   "outputs": [
    {
     "name": "stdout",
     "output_type": "stream",
     "text": [
      "몇 개?3\n",
      "1 * *  \n",
      "1 2 *  \n",
      "1 2 3  \n"
     ]
    }
   ],
   "source": [
    "# 응용\n",
    "num = int(input(\"몇 개?\"))\n",
    "for i in range(1,num+1):\n",
    "    # 숫자 출력\n",
    "    for j in range(1,i+1):\n",
    "        print(j,end=\" \")\n",
    "    # 별 출력\n",
    "    for j in range(1,num+1-i):\n",
    "        print(\"*\",end=\" \")\n",
    "    print(\" \")"
   ]
  },
  {
   "cell_type": "code",
   "execution_count": 42,
   "id": "1aedb79f",
   "metadata": {},
   "outputs": [
    {
     "name": "stdout",
     "output_type": "stream",
     "text": [
      "**********\n",
      " **********\n",
      "  **********\n",
      "   **********\n",
      "    **********\n",
      "     **********\n",
      "      **********\n",
      "       **********\n",
      "        **********\n",
      "         **********\n"
     ]
    }
   ],
   "source": [
    "for hang in range(10):\n",
    "    # 빈칸 출력\n",
    "    for space in range(hang):\n",
    "        print(\" \",end=\"\")\n",
    "    # 별 출력\n",
    "    for star in range(10) :\n",
    "        print(\"*\",end=\"\")\n",
    "    print(\"\")"
   ]
  },
  {
   "cell_type": "code",
   "execution_count": 47,
   "id": "c751a46a",
   "metadata": {},
   "outputs": [
    {
     "name": "stdout",
     "output_type": "stream",
     "text": [
      "104\n"
     ]
    }
   ],
   "source": [
    "# 1부터 100이하의 피타고라스를 만족하는 조합은 몇개인가?\n",
    "count=0\n",
    "\n",
    "for a in range(1,101):\n",
    "    for b in range(1,101):\n",
    "        for c in range(1,101):   # 100*100*100의 조합을 만듦\n",
    "            if a*a+b*b==c*c:\n",
    "                count+=1           # 하나씩 증가한다       \n",
    "print(count)"
   ]
  },
  {
   "cell_type": "code",
   "execution_count": 44,
   "id": "b8dc1693",
   "metadata": {},
   "outputs": [
    {
     "name": "stdout",
     "output_type": "stream",
     "text": [
      "1 2 3\n"
     ]
    }
   ],
   "source": [
    "num = 123\n",
    "d100 = num//100\n",
    "d10 = (num%100)//10 #23/10 ==> 2.3, 23//10 ==> 2\n",
    "d1 = num%10\n",
    "print(d100,d10,d1)"
   ]
  },
  {
   "cell_type": "code",
   "execution_count": 55,
   "id": "2f73310c",
   "metadata": {},
   "outputs": [
    {
     "name": "stdout",
     "output_type": "stream",
     "text": [
      "720 개\n"
     ]
    }
   ],
   "source": [
    "count=0\n",
    "for num in range(1000):\n",
    "    d100 = num//100\n",
    "    d10 = (num%100)//10\n",
    "    d1 = num%10\n",
    "    \n",
    "    if d100 != d10 and d10 != d1 and d100 != d1:\n",
    "        count +=1\n",
    "        #print(d100*100+d10*10+d1)\n",
    "print(count,\"개\")\n"
   ]
  },
  {
   "cell_type": "code",
   "execution_count": 58,
   "id": "278a042a",
   "metadata": {},
   "outputs": [
    {
     "name": "stdout",
     "output_type": "stream",
     "text": [
      "720 개\n"
     ]
    }
   ],
   "source": [
    "count=0\n",
    "for d100 in range(10):\n",
    "    for d10 in range(10):\n",
    "        for d1 in range(10):\n",
    "            \n",
    "            #if d100 != d10 != d1 : # 이렇게 하면 180으로 오동작\n",
    "            if d100 != d10 and d10 != d1 and d100 != d1:\n",
    "                count+=1\n",
    "print(count,\"개\")"
   ]
  },
  {
   "cell_type": "code",
   "execution_count": 60,
   "id": "c71b4506",
   "metadata": {},
   "outputs": [
    {
     "data": {
      "text/plain": [
       "1"
      ]
     },
     "execution_count": 60,
     "metadata": {},
     "output_type": "execute_result"
    }
   ],
   "source": [
    "(3**2016)%10"
   ]
  },
  {
   "cell_type": "code",
   "execution_count": 61,
   "id": "557630da",
   "metadata": {},
   "outputs": [
    {
     "name": "stdout",
     "output_type": "stream",
     "text": [
      "1\n"
     ]
    }
   ],
   "source": [
    "num = 1\n",
    "for i in range(2016):\n",
    "    num*=3\n",
    "    if i == 2015:\n",
    "        di_of_num = num%10\n",
    "print(di_of_num)"
   ]
  },
  {
   "cell_type": "code",
   "execution_count": 70,
   "id": "a166bb92",
   "metadata": {},
   "outputs": [
    {
     "name": "stdout",
     "output_type": "stream",
     "text": [
      "수 입력:682\n",
      "341/512/256/128/64/32/16/8/4/2/count: 11\n"
     ]
    }
   ],
   "source": [
    "num = int(input(\"수 입력:\"))\n",
    "proc_count = 0\n",
    "while True:\n",
    "    if num %2==0:\n",
    "        num=int(num/2)\n",
    "    else:\n",
    "        num = int((3 * num + 1)/2)\n",
    "    proc_count +=1\n",
    "    if num == 1:break\n",
    "    print(num, end=\"/\")\n",
    "    \n",
    "print (\"count:\", proc_count)"
   ]
  },
  {
   "cell_type": "code",
   "execution_count": null,
   "id": "d70f973e",
   "metadata": {},
   "outputs": [],
   "source": []
  },
  {
   "cell_type": "code",
   "execution_count": null,
   "id": "543ec2cc",
   "metadata": {},
   "outputs": [],
   "source": []
  }
 ],
 "metadata": {
  "kernelspec": {
   "display_name": "Python 3",
   "language": "python",
   "name": "python3"
  },
  "language_info": {
   "codemirror_mode": {
    "name": "ipython",
    "version": 3
   },
   "file_extension": ".py",
   "mimetype": "text/x-python",
   "name": "python",
   "nbconvert_exporter": "python",
   "pygments_lexer": "ipython3",
   "version": "3.8.8"
  }
 },
 "nbformat": 4,
 "nbformat_minor": 5
}
