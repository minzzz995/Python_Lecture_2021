{
 "cells": [
  {
   "cell_type": "code",
   "execution_count": 1,
   "id": "50e35fdb",
   "metadata": {},
   "outputs": [],
   "source": [
    "f = open(\"c:/테스트폴더/새파일.txt\",\"a\") # append=a -> 기존의 내용을 살린상태에서 추가하고 싶을 때\n",
    "f.write(\"ㅋㅋㅋ\")\n",
    "f.close()"
   ]
  },
  {
   "cell_type": "code",
   "execution_count": 2,
   "id": "bd9fa7c6",
   "metadata": {},
   "outputs": [],
   "source": [
    "with open(\"c:/테스트폴더/새파일.txt\",\"a\") as f:\n",
    "    f.write(\" ㅎㅎㅎ\")"
   ]
  },
  {
   "cell_type": "code",
   "execution_count": 3,
   "id": "7186983e",
   "metadata": {},
   "outputs": [
    {
     "name": "stdout",
     "output_type": "stream",
     "text": [
      "6\n",
      "11\n"
     ]
    }
   ],
   "source": [
    "class FourCal:\n",
    "    #self.first : class의 정적인 속성들이다\n",
    "    #self.second\n",
    "    # class안에 위치해 있지만 구성속성으로 인식되진 못하므로 self를 넣어줘야 함\n",
    "    def setdata(self, a, b):\n",
    "        self.first = a\n",
    "        self.second = b\n",
    "    def add(self): # self는 class에 포함된 동작이다. class는 식구같은 느낌\n",
    "        result = self.first + self.second #self가 붙으면 이 class에 대한 구성요소가 됨 / result는 class의 속성이라고는 할 수 없음\n",
    "        return result\n",
    "    def mul(self):\n",
    "        result = self.first * self.second #self가 붙으면 이 class에 대한 구성요소가 됨 \n",
    "        return result\n",
    "aCal = FourCal() # 소나타를 가지고 차 두대를 만들기로 했을때 \n",
    "bCal = FourCal()\n",
    "aCal.setdata(4,2) #a에는 빨강선팅을 셋팅\n",
    "print(aCal.add())\n",
    "bCal.setdata(3,8) #b에는 검정선팅을 셋팅(설계도는 같지만 옵션이 다름)\n",
    "print(bCal.add())"
   ]
  },
  {
   "cell_type": "code",
   "execution_count": 4,
   "id": "0ae08a41",
   "metadata": {},
   "outputs": [
    {
     "name": "stdout",
     "output_type": "stream",
     "text": [
      "6\n",
      "11\n"
     ]
    }
   ],
   "source": [
    "class FourCal:\n",
    "    #self.first : class의 정적인 속성들이다\n",
    "    #self.second\n",
    "    # class안에 위치해 있지만 구성속성으로 인식되진 못하므로 self를 넣어줘야 함\n",
    "    def __init__(self, a, b):\n",
    "        self.first = a\n",
    "        self.second = b\n",
    "    def add(self): # self는 class에 포함된 동작이다. class는 식구같은 느낌\n",
    "        result = self.first + self.second #self가 붙으면 이 class에 대한 구성요소가 됨 / result는 class의 속성이라고는 할 수 없음\n",
    "        return result\n",
    "    def mul(self):\n",
    "        result = self.first * self.second #self가 붙으면 이 class에 대한 구성요소가 됨 \n",
    "        return result\n",
    "aCal = FourCal(4,2) # 아예 만들때부터 셋팅에서 출고하는 과정\n",
    "bCal = FourCal(3,8)\n",
    "print(aCal.add())\n",
    "print(bCal.add())"
   ]
  },
  {
   "cell_type": "code",
   "execution_count": 5,
   "id": "6e62afc5",
   "metadata": {},
   "outputs": [
    {
     "name": "stdout",
     "output_type": "stream",
     "text": [
      "4e+17\n"
     ]
    }
   ],
   "source": [
    "class FourCal:\n",
    "    def __init__(self, a, b):\n",
    "        self.first = a\n",
    "        self.second = b\n",
    "    def add(self): \n",
    "        result = self.first + self.second \n",
    "        return result\n",
    "    def mul(self):\n",
    "        result = self.first * self.second \n",
    "        return result\n",
    "    def div(self):\n",
    "        result = self.first / self.second \n",
    "        return result\n",
    "class MoreFourCal(FourCal): #부모를 입력받아서 계승함(상속받음) / MoreFourCal은 사칙연산에 대한 고민 X (+기능인 pow까지 가능)\n",
    "    def pow(self):\n",
    "        result = self.first**self.second\n",
    "        return result\n",
    "    def div(self): # 기존에 있던 것을 덮어씀\n",
    "        if self.second == 0:\n",
    "            self.second = 0.00000000000000001\n",
    "        result = self.first / self.second \n",
    "        return result\n",
    "    \n",
    "c = MoreFourCal(4,0)\n",
    "d = c.div()\n",
    "print(d)"
   ]
  },
  {
   "cell_type": "code",
   "execution_count": 6,
   "id": "4a668c43",
   "metadata": {},
   "outputs": [
    {
     "name": "stdout",
     "output_type": "stream",
     "text": [
      "4 3.14\n"
     ]
    }
   ],
   "source": [
    "class MyMath:\n",
    "    MyPI = 3.14\n",
    "    \n",
    "mm1 = MyMath()\n",
    "mm1.MyPI = 4\n",
    "mm2 = MyMath()\n",
    "print(mm1.MyPI,mm2.MyPI)"
   ]
  },
  {
   "cell_type": "code",
   "execution_count": 7,
   "id": "2c487a7a",
   "metadata": {},
   "outputs": [
    {
     "name": "stdout",
     "output_type": "stream",
     "text": [
      "7\n",
      "-1\n"
     ]
    }
   ],
   "source": [
    "import mod1 #별 말이 없으면 잘 가지고 온 것임\n",
    "print(mod1.add_mod1(3,4))\n",
    "print(mod1.sub_mod1(3,4))"
   ]
  },
  {
   "cell_type": "code",
   "execution_count": 8,
   "id": "92ae113c",
   "metadata": {},
   "outputs": [
    {
     "name": "stdout",
     "output_type": "stream",
     "text": [
      "7\n",
      "-1\n"
     ]
    }
   ],
   "source": [
    "from mod1 import * #add_mod1, sub_mod1 : 필요한 함수만 import해서 충돌될 가능성 낮춤\n",
    "print(add_mod1(3,4))\n",
    "print(sub_mod1(3,4))"
   ]
  },
  {
   "cell_type": "code",
   "execution_count": 9,
   "id": "18e093e6",
   "metadata": {},
   "outputs": [
    {
     "name": "stdout",
     "output_type": "stream",
     "text": [
      "7\n",
      "-1\n"
     ]
    }
   ],
   "source": [
    "import mod1 as m1\n",
    "print(add_mod1(3,4))\n",
    "print(sub_mod1(3,4))"
   ]
  },
  {
   "cell_type": "code",
   "execution_count": 10,
   "id": "f4f55b5d",
   "metadata": {},
   "outputs": [
    {
     "name": "stdout",
     "output_type": "stream",
     "text": [
      "7\n",
      "3.14\n",
      "12.56\n"
     ]
    }
   ],
   "source": [
    "import mod2\n",
    "print(mod2.add_mod2(3,4)) # 함수가 들어있든, class가 들어있든 맞게 입력해주면 된다.\n",
    "print(mod2.PI)\n",
    "mm2 = mod2.Math_mod2() #class생성\n",
    "print(mm2.solve(2)) #라이브러리 불러오는 과정"
   ]
  },
  {
   "cell_type": "code",
   "execution_count": 11,
   "id": "ec46c160",
   "metadata": {},
   "outputs": [],
   "source": [
    "import numpy as np #대수\n",
    "import pandas as pd #표\n",
    "import matplotlib.pyplot as plt#그래프"
   ]
  },
  {
   "cell_type": "code",
   "execution_count": 12,
   "id": "de0ad78d",
   "metadata": {},
   "outputs": [
    {
     "ename": "ZeroDivisionError",
     "evalue": "division by zero",
     "output_type": "error",
     "traceback": [
      "\u001b[1;31m---------------------------------------------------------------------------\u001b[0m",
      "\u001b[1;31mZeroDivisionError\u001b[0m                         Traceback (most recent call last)",
      "\u001b[1;32m<ipython-input-12-221068dc2815>\u001b[0m in \u001b[0;36m<module>\u001b[1;34m\u001b[0m\n\u001b[1;32m----> 1\u001b[1;33m \u001b[1;36m4\u001b[0m\u001b[1;33m/\u001b[0m\u001b[1;36m0\u001b[0m\u001b[1;33m\u001b[0m\u001b[1;33m\u001b[0m\u001b[0m\n\u001b[0m",
      "\u001b[1;31mZeroDivisionError\u001b[0m: division by zero"
     ]
    }
   ],
   "source": [
    "# 4/0"
   ]
  },
  {
   "cell_type": "code",
   "execution_count": null,
   "id": "ab7aa538",
   "metadata": {},
   "outputs": [],
   "source": [
    "try:\n",
    "    4/0\n",
    "except ZeroDivisionError  as e:\n",
    "    print(e)"
   ]
  },
  {
   "cell_type": "code",
   "execution_count": null,
   "id": "564fa6af",
   "metadata": {},
   "outputs": [],
   "source": [
    "try:\n",
    "    print(4/0)\n",
    "except ZeroDivisionError  as e:\n",
    "    print(4/0.0000000000000000001)\n",
    "    #print(e)\n",
    "#finally는 수행 했을 때 오류가 생기든 안생기든 수행하여야 한다"
   ]
  },
  {
   "cell_type": "code",
   "execution_count": null,
   "id": "ed73677c",
   "metadata": {},
   "outputs": [],
   "source": [
    "def positive (l):\n",
    "    result =[]\n",
    "    for i in l:\n",
    "        if i > 0: result.append(i)\n",
    "        return result\n",
    "        \n",
    "print(positive([1, -3, 2, 0, -5, 6]))"
   ]
  },
  {
   "cell_type": "code",
   "execution_count": null,
   "id": "44ba15b9",
   "metadata": {},
   "outputs": [],
   "source": [
    "def positive(x):\n",
    "    return x >0 \n",
    "data = [1, -3, 2, 0, -5, 6]\n",
    "f= filter(positive,data)\n",
    "print(list(f))"
   ]
  },
  {
   "cell_type": "code",
   "execution_count": null,
   "id": "a898ff3b",
   "metadata": {},
   "outputs": [],
   "source": [
    "data = [1, -3, 2, 0, -5, 6]\n",
    "list(filter(lambda x: x>0,data))"
   ]
  },
  {
   "cell_type": "code",
   "execution_count": null,
   "id": "6f615c07",
   "metadata": {},
   "outputs": [],
   "source": [
    "a,b = input(\"숫자 두개를 입력하세요\").split()\n",
    "a = int(a)\n",
    "b = int(b)\n",
    "print(a+1,\"그리고\",b)"
   ]
  },
  {
   "cell_type": "code",
   "execution_count": null,
   "id": "b9ad1f62",
   "metadata": {},
   "outputs": [],
   "source": [
    "a,b,c,d,e = map(int, input(\"숫자 두개를 입력하세요\").split())\n",
    "print(a+1,b+1,c+1,d+1,e+1)"
   ]
  },
  {
   "cell_type": "code",
   "execution_count": 15,
   "id": "04c12c24",
   "metadata": {},
   "outputs": [
    {
     "data": {
      "text/plain": [
       "[(1, 4, 7), (2, 5, 8), (3, 6, 9)]"
      ]
     },
     "execution_count": 15,
     "metadata": {},
     "output_type": "execute_result"
    }
   ],
   "source": [
    "data1 = [1,2,3]\n",
    "data2 = [4,5,6]\n",
    "data3 = [7,8,9]\n",
    "list(zip(data1,data2,data3))"
   ]
  },
  {
   "cell_type": "code",
   "execution_count": 17,
   "id": "d85c57c2",
   "metadata": {},
   "outputs": [
    {
     "data": {
      "text/plain": [
       "'C:\\\\ProgramData\\\\Anaconda3;C:\\\\ProgramData\\\\Anaconda3\\\\Library\\\\mingw-w64\\\\bin;C:\\\\ProgramData\\\\Anaconda3\\\\Library\\\\usr\\\\bin;C:\\\\ProgramData\\\\Anaconda3\\\\Library\\\\bin;C:\\\\ProgramData\\\\Anaconda3\\\\Scripts;C:\\\\Program Files\\\\Common Files\\\\Oracle\\\\Java\\\\javapath;C:\\\\Program Files (x86)\\\\Intel\\\\Intel(R) Management Engine Components\\\\iCLS\\\\;C:\\\\Program Files\\\\Intel\\\\Intel(R) Management Engine Components\\\\iCLS\\\\;C:\\\\Windows\\\\system32;C:\\\\Windows;C:\\\\Windows\\\\System32\\\\Wbem;C:\\\\Windows\\\\System32\\\\WindowsPowerShell\\\\v1.0\\\\;C:\\\\Windows\\\\System32\\\\OpenSSH\\\\;C:\\\\Program Files (x86)\\\\Intel\\\\Intel(R) Management Engine Components\\\\DAL;C:\\\\Program Files\\\\Intel\\\\Intel(R) Management Engine Components\\\\DAL;C:\\\\Program Files\\\\Intel\\\\WiFi\\\\bin\\\\;C:\\\\Program Files\\\\Common Files\\\\Intel\\\\WirelessCommon\\\\;C:\\\\Program Files (x86)\\\\NVIDIA Corporation\\\\PhysX\\\\Common;C:\\\\Program Files\\\\NVIDIA Corporation\\\\NVIDIA NvDLISR;C:\\\\Program Files\\\\Git\\\\cmd;C:\\\\Program Files\\\\Java\\\\jdk-16.0.1\\\\bin;;C:\\\\WINDOWS\\\\system32;C:\\\\WINDOWS;C:\\\\WINDOWS\\\\System32\\\\Wbem;C:\\\\WINDOWS\\\\System32\\\\WindowsPowerShell\\\\v1.0\\\\;C:\\\\WINDOWS\\\\System32\\\\OpenSSH\\\\;C:\\\\Program Files\\\\Microsoft VS Code\\\\bin;C:\\\\Users\\\\CPB06GameN\\\\AppData\\\\Local\\\\Microsoft\\\\WindowsApps;C:\\\\Program Files\\\\Intel\\\\WiFi\\\\bin\\\\;C:\\\\Program Files\\\\Common Files\\\\Intel\\\\WirelessCommon\\\\;C:\\\\Program Files\\\\Bandizip\\\\;'"
      ]
     },
     "execution_count": 17,
     "metadata": {},
     "output_type": "execute_result"
    }
   ],
   "source": [
    "import os\n",
    "os.environ[\"path\"]"
   ]
  },
  {
   "cell_type": "code",
   "execution_count": 18,
   "id": "e4f499b6",
   "metadata": {},
   "outputs": [
    {
     "data": {
      "text/plain": [
       "'C:\\\\Users\\\\CPB06GameN'"
      ]
     },
     "execution_count": 18,
     "metadata": {},
     "output_type": "execute_result"
    }
   ],
   "source": [
    "os.getcwd()"
   ]
  },
  {
   "cell_type": "code",
   "execution_count": 19,
   "id": "cae1dbe5",
   "metadata": {},
   "outputs": [
    {
     "data": {
      "text/plain": [
       "['C:\\\\Users\\\\CPB06GameN\\\\mod1.py', 'C:\\\\Users\\\\CPB06GameN\\\\mod2.py']"
      ]
     },
     "execution_count": 19,
     "metadata": {},
     "output_type": "execute_result"
    }
   ],
   "source": [
    "import glob\n",
    "glob.glob('C:\\\\Users\\\\CPB06GameN\\\\*.py')"
   ]
  },
  {
   "cell_type": "code",
   "execution_count": null,
   "id": "bbf39024",
   "metadata": {},
   "outputs": [],
   "source": [
    "# 4시~5시"
   ]
  },
  {
   "cell_type": "code",
   "execution_count": null,
   "id": "164946b9",
   "metadata": {},
   "outputs": [],
   "source": []
  },
  {
   "cell_type": "code",
   "execution_count": 20,
   "id": "e5ac3fa2",
   "metadata": {},
   "outputs": [
    {
     "data": {
      "text/plain": [
       "array([6. , 7.5, 8. , 0. , 1. ])"
      ]
     },
     "execution_count": 20,
     "metadata": {},
     "output_type": "execute_result"
    }
   ],
   "source": [
    "data = [6, 7.5,8,0,1] # 출력값이 정수부분에도 점이 붙어서 나옴\n",
    "arr = np.array(data)\n",
    "arr"
   ]
  },
  {
   "cell_type": "code",
   "execution_count": 23,
   "id": "cefb1ef6",
   "metadata": {},
   "outputs": [
    {
     "data": {
      "text/plain": [
       "[[1, 2, 3, 4], [5, 6, 7, 8]]"
      ]
     },
     "execution_count": 23,
     "metadata": {},
     "output_type": "execute_result"
    }
   ],
   "source": [
    "data2d = [[1,2,3,4],[5,6,7,8]]\n",
    "data2d"
   ]
  },
  {
   "cell_type": "code",
   "execution_count": 26,
   "id": "d139ebaf",
   "metadata": {},
   "outputs": [],
   "source": [
    "arr2d = np.array(data2d)"
   ]
  },
  {
   "cell_type": "code",
   "execution_count": 28,
   "id": "a3776f54",
   "metadata": {},
   "outputs": [
    {
     "data": {
      "text/plain": [
       "2"
      ]
     },
     "execution_count": 28,
     "metadata": {},
     "output_type": "execute_result"
    }
   ],
   "source": [
    "arr2d.ndim # 2차원"
   ]
  },
  {
   "cell_type": "code",
   "execution_count": 30,
   "id": "a359a54b",
   "metadata": {},
   "outputs": [
    {
     "data": {
      "text/plain": [
       "(2, 4)"
      ]
     },
     "execution_count": 30,
     "metadata": {},
     "output_type": "execute_result"
    }
   ],
   "source": [
    "arr2d.shape # 2행4열"
   ]
  },
  {
   "cell_type": "code",
   "execution_count": 32,
   "id": "9553d519",
   "metadata": {},
   "outputs": [
    {
     "data": {
      "text/plain": [
       "array([0., 0., 0., 0., 0., 0., 0., 0., 0., 0.])"
      ]
     },
     "execution_count": 32,
     "metadata": {},
     "output_type": "execute_result"
    }
   ],
   "source": [
    "np.zeros(10)"
   ]
  },
  {
   "cell_type": "code",
   "execution_count": 35,
   "id": "3a471349",
   "metadata": {},
   "outputs": [
    {
     "data": {
      "text/plain": [
       "array([[0., 0., 0., 0., 0., 0.],\n",
       "       [0., 0., 0., 0., 0., 0.],\n",
       "       [0., 0., 0., 0., 0., 0.]])"
      ]
     },
     "execution_count": 35,
     "metadata": {},
     "output_type": "execute_result"
    }
   ],
   "source": [
    "np.zeros((3,6)) # zeros입장에서는 튜플로 묶어줘야 함"
   ]
  },
  {
   "cell_type": "code",
   "execution_count": 37,
   "id": "e9bbf772",
   "metadata": {},
   "outputs": [
    {
     "data": {
      "text/plain": [
       "array([[[0., 0.],\n",
       "        [0., 0.],\n",
       "        [0., 0.]],\n",
       "\n",
       "       [[0., 0.],\n",
       "        [0., 0.],\n",
       "        [0., 0.]]])"
      ]
     },
     "execution_count": 37,
     "metadata": {},
     "output_type": "execute_result"
    }
   ],
   "source": [
    "np.zeros((2,3,2)) # .으로 나타낸 것: 부동소수점"
   ]
  },
  {
   "cell_type": "code",
   "execution_count": 39,
   "id": "b881ae11",
   "metadata": {},
   "outputs": [
    {
     "data": {
      "text/plain": [
       "dtype('float64')"
      ]
     },
     "execution_count": 39,
     "metadata": {},
     "output_type": "execute_result"
    }
   ],
   "source": [
    "np.zeros((2,3,2)).dtype"
   ]
  },
  {
   "cell_type": "code",
   "execution_count": 44,
   "id": "937e8920",
   "metadata": {},
   "outputs": [
    {
     "data": {
      "text/plain": [
       "dtype('int32')"
      ]
     },
     "execution_count": 44,
     "metadata": {},
     "output_type": "execute_result"
    }
   ],
   "source": [
    "arr = np.zeros((2,3,2),dtype=np.int32)\n",
    "arr.dtype"
   ]
  },
  {
   "cell_type": "code",
   "execution_count": 46,
   "id": "99a6a0b6",
   "metadata": {},
   "outputs": [
    {
     "data": {
      "text/plain": [
       "(2, 3)"
      ]
     },
     "execution_count": 46,
     "metadata": {},
     "output_type": "execute_result"
    }
   ],
   "source": [
    "arr1 = np.zeros((2,3)) # 2행3열을 1로 채워 \n",
    "arr2 = np.ones_like(arr1) # like : 비어있는 초기화의 행렬을 만들기위해 arr1과 차원이 같은 아이를 만듦\n",
    "arr2.shape"
   ]
  },
  {
   "cell_type": "code",
   "execution_count": 49,
   "id": "20d9adf7",
   "metadata": {},
   "outputs": [
    {
     "data": {
      "text/plain": [
       "array([[5, 5, 5],\n",
       "       [5, 5, 5]])"
      ]
     },
     "execution_count": 49,
     "metadata": {},
     "output_type": "execute_result"
    }
   ],
   "source": [
    "arr3 = np.full((2,3),5)\n",
    "arr3"
   ]
  },
  {
   "cell_type": "code",
   "execution_count": 48,
   "id": "1980eccf",
   "metadata": {},
   "outputs": [
    {
     "data": {
      "text/plain": [
       "array([[1., 0.],\n",
       "       [0., 1.]])"
      ]
     },
     "execution_count": 48,
     "metadata": {},
     "output_type": "execute_result"
    }
   ],
   "source": [
    "arr4 = np.eye(2)\n",
    "arr4"
   ]
  },
  {
   "cell_type": "code",
   "execution_count": null,
   "id": "1f382f6a",
   "metadata": {},
   "outputs": [],
   "source": []
  }
 ],
 "metadata": {
  "kernelspec": {
   "display_name": "Python 3",
   "language": "python",
   "name": "python3"
  },
  "language_info": {
   "codemirror_mode": {
    "name": "ipython",
    "version": 3
   },
   "file_extension": ".py",
   "mimetype": "text/x-python",
   "name": "python",
   "nbconvert_exporter": "python",
   "pygments_lexer": "ipython3",
   "version": "3.8.8"
  }
 },
 "nbformat": 4,
 "nbformat_minor": 5
}
