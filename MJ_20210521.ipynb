{
 "cells": [
  {
   "cell_type": "code",
   "execution_count": 1,
   "id": "f34a72b4",
   "metadata": {},
   "outputs": [],
   "source": [
    "a = \"Life is too short, You need Python\""
   ]
  },
  {
   "cell_type": "code",
   "execution_count": 3,
   "id": "d352f7a5",
   "metadata": {},
   "outputs": [],
   "source": [
    "a1 = a[0:4]"
   ]
  },
  {
   "cell_type": "code",
   "execution_count": 4,
   "id": "2f9ee293",
   "metadata": {},
   "outputs": [],
   "source": [
    "a2 = a[0:5]"
   ]
  },
  {
   "cell_type": "code",
   "execution_count": 7,
   "id": "1ee87839",
   "metadata": {},
   "outputs": [
    {
     "name": "stdout",
     "output_type": "stream",
     "text": [
      "다르다\n"
     ]
    }
   ],
   "source": [
    "if a1==a2:\n",
    "    print(\"같다\")\n",
    "else :\n",
    "    print(\"다르다\")"
   ]
  },
  {
   "cell_type": "code",
   "execution_count": 9,
   "id": "0669e65c",
   "metadata": {},
   "outputs": [
    {
     "name": "stdout",
     "output_type": "stream",
     "text": [
      "Life 4\n",
      "Life  5\n"
     ]
    }
   ],
   "source": [
    "print(a1,len(a1))\n",
    "print(a2,len(a2))"
   ]
  },
  {
   "cell_type": "code",
   "execution_count": 11,
   "id": "f63b1466",
   "metadata": {},
   "outputs": [],
   "source": [
    "words1 = \"딸기, 바나나, 수박\""
   ]
  },
  {
   "cell_type": "code",
   "execution_count": 13,
   "id": "c85ae853",
   "metadata": {},
   "outputs": [
    {
     "name": "stdout",
     "output_type": "stream",
     "text": [
      "바나나\n"
     ]
    }
   ],
   "source": [
    "bananaFromWords1 = words1[4:7]\n",
    "print(bananaFromWords1)"
   ]
  },
  {
   "cell_type": "code",
   "execution_count": 19,
   "id": "53ad97a8",
   "metadata": {},
   "outputs": [
    {
     "name": "stdout",
     "output_type": "stream",
     "text": [
      "바나나\n"
     ]
    }
   ],
   "source": [
    "wordToFind = \"바나나\"\n",
    "indexOfBanana = words1.find(wordToFind)\n",
    "bananaFromWords1 = words1[indexOfBanana:7]\n",
    "print(bananaFromWords1)"
   ]
  },
  {
   "cell_type": "code",
   "execution_count": 21,
   "id": "840a5b7b",
   "metadata": {},
   "outputs": [
    {
     "name": "stdout",
     "output_type": "stream",
     "text": [
      "바나나\n"
     ]
    }
   ],
   "source": [
    "wordToFind = \"바나나\"\n",
    "indexOfBanana = words1.find(wordToFind)\n",
    "bananaFromWords1 = words1[indexOfBanana:indexOfBanana+len(wordToFind)]\n",
    "print(bananaFromWords1)"
   ]
  },
  {
   "cell_type": "code",
   "execution_count": 15,
   "id": "74797952",
   "metadata": {},
   "outputs": [
    {
     "name": "stdout",
     "output_type": "stream",
     "text": [
      "수박\n"
     ]
    }
   ],
   "source": [
    "wmFromWords1 = words1[9:]\n",
    "print(wmFromWords1)"
   ]
  },
  {
   "cell_type": "code",
   "execution_count": 17,
   "id": "a811e9d8",
   "metadata": {},
   "outputs": [
    {
     "name": "stdout",
     "output_type": "stream",
     "text": [
      "딸기\n"
     ]
    }
   ],
   "source": [
    "sbFromWords1 = words1[:2]\n",
    "print(sbFromWords1)"
   ]
  },
  {
   "cell_type": "code",
   "execution_count": 37,
   "id": "630577f7",
   "metadata": {},
   "outputs": [],
   "source": [
    "a = \"pithon\""
   ]
  },
  {
   "cell_type": "code",
   "execution_count": 38,
   "id": "fca39b96",
   "metadata": {},
   "outputs": [
    {
     "data": {
      "text/plain": [
       "'i'"
      ]
     },
     "execution_count": 38,
     "metadata": {},
     "output_type": "execute_result"
    }
   ],
   "source": [
    "a[1]"
   ]
  },
  {
   "cell_type": "code",
   "execution_count": 39,
   "id": "2a93a0f0",
   "metadata": {},
   "outputs": [
    {
     "ename": "TypeError",
     "evalue": "'str' object does not support item assignment",
     "output_type": "error",
     "traceback": [
      "\u001b[1;31m---------------------------------------------------------------------------\u001b[0m",
      "\u001b[1;31mTypeError\u001b[0m                                 Traceback (most recent call last)",
      "\u001b[1;32m<ipython-input-39-20d8517db5ff>\u001b[0m in \u001b[0;36m<module>\u001b[1;34m\u001b[0m\n\u001b[1;32m----> 1\u001b[1;33m \u001b[0ma\u001b[0m\u001b[1;33m[\u001b[0m\u001b[1;36m1\u001b[0m\u001b[1;33m]\u001b[0m \u001b[1;33m=\u001b[0m \u001b[1;34m\"Y\"\u001b[0m\u001b[1;33m\u001b[0m\u001b[1;33m\u001b[0m\u001b[0m\n\u001b[0m",
      "\u001b[1;31mTypeError\u001b[0m: 'str' object does not support item assignment"
     ]
    }
   ],
   "source": [
    "a[1] = \"Y\""
   ]
  },
  {
   "cell_type": "code",
   "execution_count": 40,
   "id": "ed5df551",
   "metadata": {},
   "outputs": [],
   "source": [
    "a2 = a[:1],\"Y\"+a[2:]"
   ]
  },
  {
   "cell_type": "code",
   "execution_count": 41,
   "id": "a6ace683",
   "metadata": {},
   "outputs": [
    {
     "name": "stdout",
     "output_type": "stream",
     "text": [
      "('p', 'Ython')\n"
     ]
    }
   ],
   "source": [
    "a = a2\n",
    "print(a)"
   ]
  },
  {
   "cell_type": "code",
   "execution_count": 48,
   "id": "bc3a8af8",
   "metadata": {},
   "outputs": [
    {
     "name": "stdout",
     "output_type": "stream",
     "text": [
      "name\tmajor1\thowManyPhone\n",
      "정민지\tmajor1\t            2\n",
      "김한남\tmajor2\t            3\n"
     ]
    }
   ],
   "source": [
    "name1 = \"정민지\";major1 = \"IT\";howManyPhone1=2\n",
    "name2 = \"김한남\";major2 = \"BT\";howManyPhone2=3\n",
    "\n",
    "print(\"name\"+\"\\t\"+\"major1\"+\"\\t\"+\"howManyPhone\")\n",
    "print(name1+\"\\t\"+\"major1\"+\"\\t\"+\"            \"+str(howManyPhone1))\n",
    "print(name2+\"\\t\"+\"major2\"+\"\\t\"+\"            \"+str(howManyPhone2))"
   ]
  },
  {
   "cell_type": "code",
   "execution_count": 54,
   "id": "d04b4de9",
   "metadata": {},
   "outputs": [
    {
     "name": "stdout",
     "output_type": "stream",
     "text": [
      "%s120\n",
      "120\n",
      "       120\n",
      "    120000\n"
     ]
    }
   ],
   "source": [
    "print(\"%s\"\"120\")\n",
    "print(\"%s\"%\"120\")\n",
    "print(\"%10s\"%\"120\")\n",
    "print(\"%10s\"%\"120000\")"
   ]
  },
  {
   "cell_type": "code",
   "execution_count": 56,
   "id": "a14ee6ff",
   "metadata": {},
   "outputs": [
    {
     "name": "stdout",
     "output_type": "stream",
     "text": [
      "120       \n",
      "120000    \n"
     ]
    }
   ],
   "source": [
    "print(\"%-10s\"%\"120\")\n",
    "print(\"%-10s\"%\"120000\")"
   ]
  },
  {
   "cell_type": "code",
   "execution_count": 57,
   "id": "e834d2d8",
   "metadata": {},
   "outputs": [
    {
     "name": "stdout",
     "output_type": "stream",
     "text": [
      "120.00\n",
      "12000.00\n"
     ]
    }
   ],
   "source": [
    "print(\"%0.2f\"%120)\n",
    "print(\"%0.2f\"%12000)"
   ]
  },
  {
   "cell_type": "code",
   "execution_count": 59,
   "id": "505e3373",
   "metadata": {},
   "outputs": [
    {
     "name": "stdout",
     "output_type": "stream",
     "text": [
      "    120.00\n",
      "  12000.00\n"
     ]
    }
   ],
   "source": [
    "print(\"%10.2f\" % 120)\n",
    "print(\"%10.2f\" % 12000)"
   ]
  },
  {
   "cell_type": "code",
   "execution_count": 64,
   "id": "a1adcc3b",
   "metadata": {},
   "outputs": [
    {
     "data": {
      "text/plain": [
       "'~~~~~~~~~~~~~[0]~~~~~[1]'"
      ]
     },
     "execution_count": 64,
     "metadata": {},
     "output_type": "execute_result"
    }
   ],
   "source": [
    "\"~~~~~~~~~~~~~[0]~~~~~[1]\""
   ]
  },
  {
   "cell_type": "code",
   "execution_count": 83,
   "id": "247e415b",
   "metadata": {},
   "outputs": [
    {
     "data": {
      "text/plain": [
       "'~~~~~~~~~~~~~민지~~~~~2'"
      ]
     },
     "execution_count": 83,
     "metadata": {},
     "output_type": "execute_result"
    }
   ],
   "source": [
    "\"~~~~~~~~~~~~~{0}~~~~~{1}\".format(\"민지\",2)"
   ]
  },
  {
   "cell_type": "code",
   "execution_count": 82,
   "id": "d445de2d",
   "metadata": {},
   "outputs": [
    {
     "data": {
      "text/plain": [
       "'~~~~~~~~~~~~~민지~~~~~2~~~~민지'"
      ]
     },
     "execution_count": 82,
     "metadata": {},
     "output_type": "execute_result"
    }
   ],
   "source": [
    "\"~~~~~~~~~~~~~{0}~~~~~{1}~~~~{0}\".format(\"민지\",2)"
   ]
  },
  {
   "cell_type": "code",
   "execution_count": 68,
   "id": "62f5be6f",
   "metadata": {},
   "outputs": [
    {
     "data": {
      "text/plain": [
       "'       120'"
      ]
     },
     "execution_count": 68,
     "metadata": {},
     "output_type": "execute_result"
    }
   ],
   "source": [
    "\"{0:>10}\".format(\"120\")"
   ]
  },
  {
   "cell_type": "code",
   "execution_count": 70,
   "id": "91204e3b",
   "metadata": {},
   "outputs": [
    {
     "data": {
      "text/plain": [
       "'   120    '"
      ]
     },
     "execution_count": 70,
     "metadata": {},
     "output_type": "execute_result"
    }
   ],
   "source": [
    "\"{0:^10}\".format(\"120\")"
   ]
  },
  {
   "cell_type": "code",
   "execution_count": 73,
   "id": "cf6d5cf6",
   "metadata": {},
   "outputs": [
    {
     "data": {
      "text/plain": [
       "'_______120'"
      ]
     },
     "execution_count": 73,
     "metadata": {},
     "output_type": "execute_result"
    }
   ],
   "source": [
    "\"{0:_>10}\".format(\"120\")"
   ]
  },
  {
   "cell_type": "code",
   "execution_count": 79,
   "id": "a7a8dc7c",
   "metadata": {},
   "outputs": [
    {
     "data": {
      "text/plain": [
       "'나의 이름은 민지입니다. 나이는 120살 까지 살고 싶어요'"
      ]
     },
     "execution_count": 79,
     "metadata": {},
     "output_type": "execute_result"
    }
   ],
   "source": [
    "name = \"민지\"\n",
    "age = 120\n",
    "\"나의 이름은 {0}입니다. 나이는 {1}살 까지 살고 싶어요\".format(name,age)"
   ]
  },
  {
   "cell_type": "code",
   "execution_count": 81,
   "id": "135665c8",
   "metadata": {},
   "outputs": [
    {
     "data": {
      "text/plain": [
       "'나의 이름은 민지입니다. 나이는 120살 까지 살고 싶어요'"
      ]
     },
     "execution_count": 81,
     "metadata": {},
     "output_type": "execute_result"
    }
   ],
   "source": [
    "f\"나의 이름은 {name}입니다. 나이는 {age}살 까지 살고 싶어요\""
   ]
  },
  {
   "cell_type": "code",
   "execution_count": 84,
   "id": "2f57bade",
   "metadata": {},
   "outputs": [
    {
     "data": {
      "text/plain": [
       "3"
      ]
     },
     "execution_count": 84,
     "metadata": {},
     "output_type": "execute_result"
    }
   ],
   "source": [
    "len(\"바나나\")"
   ]
  },
  {
   "cell_type": "code",
   "execution_count": 85,
   "id": "5dd8d475",
   "metadata": {},
   "outputs": [
    {
     "data": {
      "text/plain": [
       "3"
      ]
     },
     "execution_count": 85,
     "metadata": {},
     "output_type": "execute_result"
    }
   ],
   "source": [
    "\"내가 가장 좋아하는 바나나는 크기가 큰 바나나 입니다. 왜냐면 작은 바나나는\\\n",
    "같은 무게를 사도 껍질로 다 버려져요\".count(\"바나나\")"
   ]
  },
  {
   "cell_type": "code",
   "execution_count": 86,
   "id": "3135302c",
   "metadata": {},
   "outputs": [
    {
     "data": {
      "text/plain": [
       "'a,b,c,d'"
      ]
     },
     "execution_count": 86,
     "metadata": {},
     "output_type": "execute_result"
    }
   ],
   "source": [
    "\",\".join(\"abcd\")"
   ]
  },
  {
   "cell_type": "code",
   "execution_count": 87,
   "id": "dd6ceb1e",
   "metadata": {},
   "outputs": [
    {
     "data": {
      "text/plain": [
       "'abc,def,ghi'"
      ]
     },
     "execution_count": 87,
     "metadata": {},
     "output_type": "execute_result"
    }
   ],
   "source": [
    "\",\".join([\"abc\",\"def\",\"ghi\"])"
   ]
  },
  {
   "cell_type": "code",
   "execution_count": 89,
   "id": "b36d6c93",
   "metadata": {},
   "outputs": [
    {
     "data": {
      "text/plain": [
       "'010-1234-5678'"
      ]
     },
     "execution_count": 89,
     "metadata": {},
     "output_type": "execute_result"
    }
   ],
   "source": [
    "# 숫자만으로 지정된 전화 번호를 DB에서 얻었다. 010 1234 5678 이 번호를 -로 연결하자\n",
    "# 010-1234-5678\n",
    "\"-\".join([\"010\",\"1234\",\"5678\"])"
   ]
  },
  {
   "cell_type": "code",
   "execution_count": 94,
   "id": "ee314f91",
   "metadata": {},
   "outputs": [
    {
     "name": "stdout",
     "output_type": "stream",
     "text": [
      "I love peach. because peach is so sweet\n"
     ]
    }
   ],
   "source": [
    "a = \"I love apple. because apple is so sweet\"\n",
    "b = a.replace(\"apple\",\"peach\")\n",
    "print(b)"
   ]
  },
  {
   "cell_type": "code",
   "execution_count": 95,
   "id": "5431f48c",
   "metadata": {},
   "outputs": [
    {
     "name": "stdout",
     "output_type": "stream",
     "text": [
      "01012345678\n"
     ]
    }
   ],
   "source": [
    "# '010-1234-5678' --> '01012345678'\n",
    "a = '010-1234-5678'\n",
    "b = a.replace(\"-\",\"\")\n",
    "print(b)"
   ]
  },
  {
   "cell_type": "code",
   "execution_count": 96,
   "id": "ea8125f6",
   "metadata": {},
   "outputs": [
    {
     "name": "stdout",
     "output_type": "stream",
     "text": [
      "['life', 'is', 'good']\n"
     ]
    }
   ],
   "source": [
    "a = 'life is good'\n",
    "b = a.split()\n",
    "print(b)"
   ]
  },
  {
   "cell_type": "code",
   "execution_count": 100,
   "id": "38e9ea9b",
   "metadata": {},
   "outputs": [
    {
     "name": "stdout",
     "output_type": "stream",
     "text": [
      "식별번호: 010 , 국번 1234 ,개인번호 5678\n"
     ]
    }
   ],
   "source": [
    "# '010-1234-5678' --> ['010','1234','5678']\n",
    "a = '010 1234 5678'\n",
    "b = a.split()\n",
    "print(\"식별번호:\",b[0], \", 국번\",b[1], \",개인번호\",b[2])"
   ]
  },
  {
   "cell_type": "code",
   "execution_count": 103,
   "id": "4582bf4c",
   "metadata": {},
   "outputs": [
    {
     "name": "stdout",
     "output_type": "stream",
     "text": [
      "[]\n",
      "[1, 2, [3, 4]]\n",
      "3\n",
      "1\n",
      "[3, 4]\n",
      "[3, 4]\n",
      "4\n"
     ]
    }
   ],
   "source": [
    "a = []\n",
    "print(a)\n",
    "e = [ 1, 2, [3, 4]]\n",
    "print(e)\n",
    "print(len(e))\n",
    "print(e[0])\n",
    "print(e[2])\n",
    "print(e[-1])\n",
    "print(e[2][1])"
   ]
  },
  {
   "cell_type": "code",
   "execution_count": 106,
   "id": "27e062d9",
   "metadata": {},
   "outputs": [
    {
     "name": "stdout",
     "output_type": "stream",
     "text": [
      "c\n",
      "[1, 2, 4]\n"
     ]
    }
   ],
   "source": [
    "str1 = \"abc\"\n",
    "print(str1[2])\n",
    "# str1[2] = \"d\"\n",
    "a = [1, 2, 3]\n",
    "a[2] = 4\n",
    "print(a)"
   ]
  },
  {
   "cell_type": "code",
   "execution_count": 108,
   "id": "214fcbf2",
   "metadata": {},
   "outputs": [
    {
     "name": "stdout",
     "output_type": "stream",
     "text": [
      "[1, 2, 3, 4]\n"
     ]
    }
   ],
   "source": [
    "a = [1, 4, 3, 2]\n",
    "a.sort()\n",
    "print(a)"
   ]
  },
  {
   "cell_type": "code",
   "execution_count": 109,
   "id": "c58cec60",
   "metadata": {},
   "outputs": [
    {
     "name": "stdout",
     "output_type": "stream",
     "text": [
      "[1, 2, 3, 4]\n"
     ]
    }
   ],
   "source": [
    "a = [1, 4, 3, 2]\n",
    "a2 = a\n",
    "a2.sort()\n",
    "print(a2)"
   ]
  },
  {
   "cell_type": "code",
   "execution_count": 110,
   "id": "f7afa604",
   "metadata": {},
   "outputs": [
    {
     "name": "stdout",
     "output_type": "stream",
     "text": [
      "[1, 2, 3, 4]\n",
      "[1, 4, 3, 2]\n"
     ]
    }
   ],
   "source": [
    "a = [1, 4, 3, 2]\n",
    "a2 = sorted(a)\n",
    "print(a2)\n",
    "print(a)"
   ]
  },
  {
   "cell_type": "code",
   "execution_count": 111,
   "id": "9810ec87",
   "metadata": {},
   "outputs": [
    {
     "name": "stdout",
     "output_type": "stream",
     "text": [
      "[4, 3, 2, 1]\n"
     ]
    }
   ],
   "source": [
    "a = [1, 4, 3, 2]\n",
    "a.sort(reverse=True)\n",
    "print(a)"
   ]
  },
  {
   "cell_type": "code",
   "execution_count": 112,
   "id": "9ade0d13",
   "metadata": {},
   "outputs": [
    {
     "name": "stdout",
     "output_type": "stream",
     "text": [
      "[4, 3, 2, 1]\n",
      "[1, 4, 3, 2]\n"
     ]
    }
   ],
   "source": [
    "a = [1, 4, 3, 2]\n",
    "a2 = sorted(a, reverse=True)\n",
    "print(a2)\n",
    "print(a)"
   ]
  },
  {
   "cell_type": "code",
   "execution_count": 116,
   "id": "88635cc9",
   "metadata": {},
   "outputs": [
    {
     "data": {
      "text/plain": [
       "[1, 3]"
      ]
     },
     "execution_count": 116,
     "metadata": {},
     "output_type": "execute_result"
    }
   ],
   "source": [
    "a = [1, 2, 3]\n",
    "a[2]\n",
    "a.pop(1)\n",
    "a"
   ]
  },
  {
   "cell_type": "code",
   "execution_count": 118,
   "id": "1abcba9f",
   "metadata": {},
   "outputs": [
    {
     "name": "stdout",
     "output_type": "stream",
     "text": [
      "[1, 2, 3, 4]\n",
      "[1, 2, 3, 4]\n"
     ]
    }
   ],
   "source": [
    "a1 = [1,2]; a2=[3,4]\n",
    "new1 = a1+a2 ; print(new1)\n",
    "a1.extend(a2) ; print(a1)"
   ]
  },
  {
   "cell_type": "code",
   "execution_count": 120,
   "id": "d68d8e28",
   "metadata": {},
   "outputs": [],
   "source": [
    "my_dic1 = {}"
   ]
  },
  {
   "cell_type": "code",
   "execution_count": 121,
   "id": "6435903b",
   "metadata": {},
   "outputs": [],
   "source": [
    "my_dic1[\"banana\"]=\"노랗고 달콤한 과일\""
   ]
  },
  {
   "cell_type": "code",
   "execution_count": 123,
   "id": "5865f99a",
   "metadata": {},
   "outputs": [],
   "source": [
    "my_dic1[\"strawberry\"]=\"새콤달콤 빨간 과일\""
   ]
  },
  {
   "cell_type": "code",
   "execution_count": 124,
   "id": "7169a9e8",
   "metadata": {},
   "outputs": [
    {
     "data": {
      "text/plain": [
       "{'banana': '노랗고 달콤한 과일', 'strawberry': '새콤달콤 빨간 과일'}"
      ]
     },
     "execution_count": 124,
     "metadata": {},
     "output_type": "execute_result"
    }
   ],
   "source": [
    "my_dic1"
   ]
  },
  {
   "cell_type": "code",
   "execution_count": 125,
   "id": "d383ed44",
   "metadata": {},
   "outputs": [],
   "source": [
    "#del my_dic1\n",
    "del my_dic1[\"banana\"]"
   ]
  },
  {
   "cell_type": "code",
   "execution_count": 126,
   "id": "5e3e1aef",
   "metadata": {},
   "outputs": [
    {
     "data": {
      "text/plain": [
       "{'strawberry': '새콤달콤 빨간 과일'}"
      ]
     },
     "execution_count": 126,
     "metadata": {},
     "output_type": "execute_result"
    }
   ],
   "source": [
    "my_dic1"
   ]
  },
  {
   "cell_type": "code",
   "execution_count": 127,
   "id": "a8c4d104",
   "metadata": {},
   "outputs": [
    {
     "data": {
      "text/plain": [
       "{'strawberry': '새콤달콤 빨간 과일', 'banana': '노랗고 달콤한 과일'}"
      ]
     },
     "execution_count": 127,
     "metadata": {},
     "output_type": "execute_result"
    }
   ],
   "source": [
    "my_dic1[\"banana\"]=\"노랗고 달콤한 과일\"\n",
    "my_dic1"
   ]
  },
  {
   "cell_type": "code",
   "execution_count": 128,
   "id": "4d085a48",
   "metadata": {},
   "outputs": [
    {
     "data": {
      "text/plain": [
       "dict_keys(['strawberry', 'banana'])"
      ]
     },
     "execution_count": 128,
     "metadata": {},
     "output_type": "execute_result"
    }
   ],
   "source": [
    "my_dic1.keys()"
   ]
  },
  {
   "cell_type": "code",
   "execution_count": 133,
   "id": "9e184c81",
   "metadata": {},
   "outputs": [
    {
     "data": {
      "text/plain": [
       "['strawberry', 'banana', 'strawberry']"
      ]
     },
     "execution_count": 133,
     "metadata": {},
     "output_type": "execute_result"
    }
   ],
   "source": [
    "a = [\"strawberry\",\"banana\",\"strawberry\"]\n",
    "a"
   ]
  },
  {
   "cell_type": "code",
   "execution_count": 132,
   "id": "7ae029d0",
   "metadata": {},
   "outputs": [
    {
     "data": {
      "text/plain": [
       "{'strawberry': '새콤달콤 빨간 과일', 'banana': '노랗고 달콤한 과일2'}"
      ]
     },
     "execution_count": 132,
     "metadata": {},
     "output_type": "execute_result"
    }
   ],
   "source": [
    "my_dic1[\"banana\"] = \"노랗고 달콤한 과일2\"\n",
    "my_dic1 # 중복이 아니라 갱신이 됨"
   ]
  },
  {
   "cell_type": "code",
   "execution_count": 134,
   "id": "1a1c606d",
   "metadata": {},
   "outputs": [],
   "source": [
    "a = True\n",
    "b = False"
   ]
  },
  {
   "cell_type": "code",
   "execution_count": 138,
   "id": "babbd9fb",
   "metadata": {},
   "outputs": [],
   "source": [
    "a = [1, 4, 3, 2]\n",
    "b2 =a[:]"
   ]
  },
  {
   "cell_type": "code",
   "execution_count": 137,
   "id": "eeaf36b1",
   "metadata": {},
   "outputs": [
    {
     "ename": "NameError",
     "evalue": "name 'copy' is not defined",
     "output_type": "error",
     "traceback": [
      "\u001b[1;31m---------------------------------------------------------------------------\u001b[0m",
      "\u001b[1;31mNameError\u001b[0m                                 Traceback (most recent call last)",
      "\u001b[1;32m<ipython-input-137-b85dc399abe9>\u001b[0m in \u001b[0;36m<module>\u001b[1;34m\u001b[0m\n\u001b[0;32m      1\u001b[0m \u001b[0mb\u001b[0m \u001b[1;33m=\u001b[0m \u001b[1;33m[\u001b[0m\u001b[1;36m1\u001b[0m\u001b[1;33m,\u001b[0m \u001b[1;36m4\u001b[0m\u001b[1;33m,\u001b[0m \u001b[1;36m3\u001b[0m\u001b[1;33m,\u001b[0m \u001b[1;36m2\u001b[0m\u001b[1;33m]\u001b[0m\u001b[1;33m\u001b[0m\u001b[1;33m\u001b[0m\u001b[0m\n\u001b[1;32m----> 2\u001b[1;33m \u001b[0mb2\u001b[0m \u001b[1;33m=\u001b[0m \u001b[0mcopy\u001b[0m\u001b[1;33m(\u001b[0m\u001b[0mb\u001b[0m\u001b[1;33m)\u001b[0m\u001b[1;33m\u001b[0m\u001b[1;33m\u001b[0m\u001b[0m\n\u001b[0m",
      "\u001b[1;31mNameError\u001b[0m: name 'copy' is not defined"
     ]
    }
   ],
   "source": [
    "b = [1, 4, 3, 2]\n",
    "b2 = copy(b)"
   ]
  },
  {
   "cell_type": "code",
   "execution_count": 139,
   "id": "78b9a980",
   "metadata": {},
   "outputs": [
    {
     "name": "stdout",
     "output_type": "stream",
     "text": [
      "참\n",
      "참\n"
     ]
    }
   ],
   "source": [
    "if 3>1:\n",
    "    print(\"참\")\n",
    "if 4<10:\n",
    "    print(\"참\")"
   ]
  },
  {
   "cell_type": "code",
   "execution_count": 140,
   "id": "618f1715",
   "metadata": {},
   "outputs": [
    {
     "name": "stdout",
     "output_type": "stream",
     "text": [
      "참\n"
     ]
    }
   ],
   "source": [
    "if 3>1:\n",
    "    print(\"참\")\n",
    "else:\n",
    "    print(\"거짓\")"
   ]
  },
  {
   "cell_type": "code",
   "execution_count": 143,
   "id": "5fde5a28",
   "metadata": {},
   "outputs": [
    {
     "name": "stdout",
     "output_type": "stream",
     "text": [
      "두 수가 같다\n"
     ]
    }
   ],
   "source": [
    "a = 4\n",
    "b = 3\n",
    "if a >= b:\n",
    "    print(\"두 수가 같다\")"
   ]
  },
  {
   "cell_type": "code",
   "execution_count": 144,
   "id": "545d9a28",
   "metadata": {},
   "outputs": [
    {
     "name": "stdout",
     "output_type": "stream",
     "text": [
      "참\n"
     ]
    }
   ],
   "source": [
    "if True or False:\n",
    "    print(\"참\")"
   ]
  },
  {
   "cell_type": "code",
   "execution_count": null,
   "id": "88239b27",
   "metadata": {},
   "outputs": [],
   "source": []
  }
 ],
 "metadata": {
  "kernelspec": {
   "display_name": "Python 3",
   "language": "python",
   "name": "python3"
  },
  "language_info": {
   "codemirror_mode": {
    "name": "ipython",
    "version": 3
   },
   "file_extension": ".py",
   "mimetype": "text/x-python",
   "name": "python",
   "nbconvert_exporter": "python",
   "pygments_lexer": "ipython3",
   "version": "3.8.8"
  }
 },
 "nbformat": 4,
 "nbformat_minor": 5
}
