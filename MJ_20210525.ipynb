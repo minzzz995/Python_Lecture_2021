{
 "cells": [
  {
   "cell_type": "code",
   "execution_count": 1,
   "id": "c14047fd",
   "metadata": {},
   "outputs": [
    {
     "name": "stdout",
     "output_type": "stream",
     "text": [
      "안녕하세요1\n",
      "안녕하세요2\n",
      "안녕하세요3\n",
      "안녕하세요4\n",
      "안녕하세요5\n",
      "안녕하세요1\n",
      "안녕하세요2\n",
      "안녕하세요3\n",
      "안녕하세요4\n",
      "안녕하세요5\n",
      "안녕하세요1\n",
      "안녕하세요2\n",
      "안녕하세요3\n",
      "안녕하세요4\n",
      "안녕하세요5\n"
     ]
    }
   ],
   "source": [
    "def hello_5():\n",
    "    print(\"안녕하세요1\")\n",
    "    print(\"안녕하세요2\")\n",
    "    print(\"안녕하세요3\")\n",
    "    print(\"안녕하세요4\")\n",
    "    print(\"안녕하세요5\")\n",
    "\n",
    "hello_5()\n",
    "hello_5()\n",
    "hello_5()"
   ]
  },
  {
   "cell_type": "code",
   "execution_count": 4,
   "id": "84fab90a",
   "metadata": {},
   "outputs": [
    {
     "name": "stdout",
     "output_type": "stream",
     "text": [
      "숫자 1:1\n",
      "숫자 2:3\n",
      "4\n"
     ]
    }
   ],
   "source": [
    "def add(a,b):\n",
    "    c = a + b\n",
    "    return c\n",
    "\n",
    "num1 = int(input(\"숫자 1:\"))\n",
    "num2 = int(input(\"숫자 2:\"))\n",
    "result = add(num1, num2) #함수를 따로 만들어서 좋은 점 : 더하는 일이 밑에 반복될 때 편리, 수정이 편함(연산변환할 때) -> 업무 안정적\n",
    "print(result)"
   ]
  },
  {
   "cell_type": "code",
   "execution_count": 5,
   "id": "11333d5e",
   "metadata": {},
   "outputs": [
    {
     "name": "stdout",
     "output_type": "stream",
     "text": [
      "hi\n"
     ]
    }
   ],
   "source": [
    "def say_hi():\n",
    "    return \"hi\"\n",
    "\n",
    "print(say_hi()) # say_hi()값 전체가 hi가 됨(입력값이 없는 함수도 가능)"
   ]
  },
  {
   "cell_type": "code",
   "execution_count": 7,
   "id": "45754fcc",
   "metadata": {},
   "outputs": [
    {
     "name": "stdout",
     "output_type": "stream",
     "text": [
      "hi\n"
     ]
    }
   ],
   "source": [
    "def say_hi_dont_care():\n",
    "    print(\"hi\")\n",
    "\n",
    "say_hi_dont_care()"
   ]
  },
  {
   "cell_type": "code",
   "execution_count": 9,
   "id": "80a4c04d",
   "metadata": {},
   "outputs": [
    {
     "name": "stdout",
     "output_type": "stream",
     "text": [
      "hi\n"
     ]
    }
   ],
   "source": [
    "def say_hi_dont_care2(a):\n",
    "    print(a)\n",
    "\n",
    "say_hi_dont_care2(\"hi\")"
   ]
  },
  {
   "cell_type": "code",
   "execution_count": 10,
   "id": "69be191f",
   "metadata": {},
   "outputs": [
    {
     "name": "stdout",
     "output_type": "stream",
     "text": [
      "hi\n",
      "None\n"
     ]
    }
   ],
   "source": [
    "def say_hi_dont_care2(a):\n",
    "    print(a)\n",
    "b = say_hi_dont_care2(\"hi\")\n",
    "print(b) # None은 결과값이 안나온 상황"
   ]
  },
  {
   "cell_type": "code",
   "execution_count": 12,
   "id": "8db7b34d",
   "metadata": {},
   "outputs": [
    {
     "name": "stdout",
     "output_type": "stream",
     "text": [
      "2\n",
      "-2\n",
      "2\n",
      "2\n"
     ]
    }
   ],
   "source": [
    "def sub2(a,b):\n",
    "    return a - b\n",
    "print(sub2(4,2))\n",
    "print(sub2(2,4))\n",
    "print(sub2(a=4, b=2))\n",
    "print(sub2(b=2, a=4))"
   ]
  },
  {
   "cell_type": "code",
   "execution_count": 15,
   "id": "be4fd6ac",
   "metadata": {},
   "outputs": [
    {
     "name": "stdout",
     "output_type": "stream",
     "text": [
      "3\n",
      "24\n"
     ]
    }
   ],
   "source": [
    "def add_many(mode,*a): #*하나는 튜플대신에 list처리가 됨 / 길이가 정해지지 않은 것을 먼저 쓰면 안됨\n",
    "    if mode == \"sum\":\n",
    "        result=0\n",
    "        for item in a: result+=item\n",
    "    elif mode == \"mul\":\n",
    "        result=1\n",
    "        for item in a: result*=item\n",
    "    return result\n",
    "print(add_many(\"sum\",1,2))\n",
    "print(add_many(\"mul\",1,2,3,4))"
   ]
  },
  {
   "cell_type": "code",
   "execution_count": 16,
   "id": "de027d42",
   "metadata": {},
   "outputs": [
    {
     "name": "stdout",
     "output_type": "stream",
     "text": [
      "{'a': 1}\n"
     ]
    }
   ],
   "source": [
    "def print_kwa(**a):\n",
    "    print(a)\n",
    "print_kwa(a=1) # **면 출력될 때 딕셔너리로 들어감({항목이름:데이터})"
   ]
  },
  {
   "cell_type": "code",
   "execution_count": 19,
   "id": "0e5e3954",
   "metadata": {},
   "outputs": [
    {
     "name": "stdout",
     "output_type": "stream",
     "text": [
      "c:3,d:2\n",
      "3\n"
     ]
    }
   ],
   "source": [
    "def add2(a,b):\n",
    "    return a+b\n",
    "def add_and_mul(a,b):\n",
    "    return a+b, a*b\n",
    "c, d = add_and_mul(1,2) # 올바르게 쪼개서 나눠가질 수 있도록 값을 두개 적어줌\n",
    "print(\"c:\"+str(c)+\",d:\"+str(d))\n",
    "\n",
    "c = add2(1,2)\n",
    "print(c)"
   ]
  },
  {
   "cell_type": "code",
   "execution_count": 20,
   "id": "5e31a3f7",
   "metadata": {},
   "outputs": [
    {
     "name": "stdout",
     "output_type": "stream",
     "text": [
      "8\n",
      "11\n",
      "14\n"
     ]
    }
   ],
   "source": [
    "def my_classify(a,b,c=1, d=2):\n",
    "    print(a+b+c+d)\n",
    "my_classify(2,3)\n",
    "my_classify(2,3,4)\n",
    "my_classify(2,3,4,5)"
   ]
  },
  {
   "cell_type": "code",
   "execution_count": 21,
   "id": "14ba58a3",
   "metadata": {},
   "outputs": [
    {
     "name": "stdout",
     "output_type": "stream",
     "text": [
      "2 3 1 2\n",
      "2 3 4 2\n",
      "2 3 4 5\n"
     ]
    }
   ],
   "source": [
    "def my_classify(a,b,c=1, d=2): \n",
    "    print(a,b,c,d)\n",
    "my_classify(2,3)\n",
    "my_classify(2,3,4)\n",
    "my_classify(2,3,4,5)"
   ]
  },
  {
   "cell_type": "code",
   "execution_count": 23,
   "id": "a6398017",
   "metadata": {},
   "outputs": [
    {
     "ename": "SyntaxError",
     "evalue": "non-default argument follows default argument (<ipython-input-23-569b7e50da35>, line 1)",
     "output_type": "error",
     "traceback": [
      "\u001b[1;36m  File \u001b[1;32m\"<ipython-input-23-569b7e50da35>\"\u001b[1;36m, line \u001b[1;32m1\u001b[0m\n\u001b[1;33m    def my_classify(a, b=1 ,c, d=2): #순서가 default값이 있는 것은 맨 뒤에 몰아놔야 함\u001b[0m\n\u001b[1;37m                    ^\u001b[0m\n\u001b[1;31mSyntaxError\u001b[0m\u001b[1;31m:\u001b[0m non-default argument follows default argument\n"
     ]
    }
   ],
   "source": [
    "def my_classify(a, b=1 ,c, d=2): #순서가 default값이 있는 것은 맨 뒤에 몰아놔야 함\n",
    "    print(a,b,c,d)\n",
    "my_classify(2,3)\n",
    "my_classify(2,3,4)\n",
    "my_classify(2,3,4,5)"
   ]
  },
  {
   "cell_type": "code",
   "execution_count": 27,
   "id": "b004d099",
   "metadata": {},
   "outputs": [
    {
     "name": "stdout",
     "output_type": "stream",
     "text": [
      "2\n"
     ]
    }
   ],
   "source": [
    "a = 1 #a(전국구)\n",
    "def vartest(): #위의 a와 다른 a(vartest함수의 지역변수) -> 사라지지 않게 하려고 return을 해줌\n",
    "    global a # global선언은 전역을 뜻함\n",
    "    a = a+1\n",
    "vartest()\n",
    "print(a) # \"a = a+1\"가 없는 것으로 나타남 (지역변수냐 전역변수냐)"
   ]
  },
  {
   "cell_type": "code",
   "execution_count": 28,
   "id": "9edc5fb0",
   "metadata": {},
   "outputs": [
    {
     "name": "stdout",
     "output_type": "stream",
     "text": [
      "7\n"
     ]
    }
   ],
   "source": [
    "add_lam = lambda a, b : a+b\n",
    "res = add_lam(3,4)\n",
    "print(res)"
   ]
  },
  {
   "cell_type": "code",
   "execution_count": 30,
   "id": "c166288e",
   "metadata": {},
   "outputs": [
    {
     "name": "stdout",
     "output_type": "stream",
     "text": [
      "a b\n",
      "ab\n",
      "ab\n"
     ]
    }
   ],
   "source": [
    "print(\"a\",\"b\")\n",
    "print(\"a\"+\"b\")\n",
    "print(\"a\"\"b\")"
   ]
  },
  {
   "cell_type": "code",
   "execution_count": 31,
   "id": "a23e68f2",
   "metadata": {},
   "outputs": [
    {
     "name": "stdout",
     "output_type": "stream",
     "text": [
      "a b\n"
     ]
    }
   ],
   "source": [
    "print(\"a\",end=\" \")\n",
    "print(\"b\")"
   ]
  },
  {
   "cell_type": "code",
   "execution_count": 33,
   "id": "6f46d35c",
   "metadata": {},
   "outputs": [
    {
     "name": "stdout",
     "output_type": "stream",
     "text": [
      "a b c\n",
      "a/b/c\n"
     ]
    }
   ],
   "source": [
    "print(\"a\",\"b\",\"c\")\n",
    "print(\"a\",\"b\",\"c\",sep=\"/\")"
   ]
  },
  {
   "cell_type": "code",
   "execution_count": 58,
   "id": "aac81e42",
   "metadata": {},
   "outputs": [],
   "source": [
    "f = open(\"c:/테스트폴더/새파일.txt\",\"w\")\n",
    "f.write(\"안녕~!\")\n",
    "f.close()"
   ]
  },
  {
   "cell_type": "code",
   "execution_count": 15,
   "id": "2da6f09a",
   "metadata": {},
   "outputs": [
    {
     "name": "stdout",
     "output_type": "stream",
     "text": [
      "adsf  asdf  asdf  asdf ['adsf ', 'asdf ', 'asdf ', 'asdf']\n"
     ]
    }
   ],
   "source": [
    "f = open(\"c:/테스트폴더/새파일.txt\",\"r\")\n",
    "list1 = []\n",
    "list2 = []\n",
    "while True:\n",
    "    line1 = f.readline()\n",
    "    if not line1: break\n",
    "    #print(line1)\n",
    "    list1.append(line1)\n",
    "f.close()\n",
    "for item in list1:\n",
    "    processed= item.replace(\"\\n\",\" \")\n",
    "    print(processed,end=\" \")\n",
    "    list2.append(processed)\n",
    "print(list2)"
   ]
  },
  {
   "cell_type": "code",
   "execution_count": 1,
   "id": "4dd4582a",
   "metadata": {},
   "outputs": [
    {
     "name": "stdout",
     "output_type": "stream",
     "text": [
      "['adsf\\n', 'asdf\\n', 'asdf\\n', 'asdf']\n"
     ]
    }
   ],
   "source": [
    "f = open(\"c:/테스트폴더/새파일.txt\",\"r\")\n",
    "lines = f.readlines()\n",
    "f.close()\n",
    "print(lines) # list에 잘 들어감"
   ]
  },
  {
   "cell_type": "code",
   "execution_count": 34,
   "id": "cf409ea1",
   "metadata": {},
   "outputs": [
    {
     "name": "stdout",
     "output_type": "stream",
     "text": [
      "['adsf\\n', 'asdf\\n', 'asdf\\n', 'asdf']\n",
      "['adsf', 'asdf', 'asdf', 'asdf']\n"
     ]
    }
   ],
   "source": [
    "f = open(\"c:/테스트폴더/새파일.txt\",\"r\")\n",
    "lines = f.readlines()\n",
    "f.close()\n",
    "print(lines)\n",
    "refined_list = []\n",
    "for item in lines:\n",
    "    refined_list.append(item.replace(\"\\n\",\"\"))\n",
    "print(refined_list)"
   ]
  },
  {
   "cell_type": "code",
   "execution_count": 41,
   "id": "d35d41c4",
   "metadata": {},
   "outputs": [
    {
     "name": "stdout",
     "output_type": "stream",
     "text": [
      "adsf\n",
      "asdf\n",
      "asdf\n",
      "asdf\n",
      "['adsf', 'asdf', 'asdf', 'asdf']\n"
     ]
    }
   ],
   "source": [
    "f = open(\"c:/테스트폴더/새파일.txt\",\"r\")\n",
    "page = f.read()\n",
    "f.close()\n",
    "print(page) #type하면 하나의 str로 출력\n",
    "refined_list = page.split(\"\\n\") #\"\\n\"를 기준으로 쪼개기\n",
    "print(refined_list)"
   ]
  }
 ],
 "metadata": {
  "kernelspec": {
   "display_name": "Python 3",
   "language": "python",
   "name": "python3"
  },
  "language_info": {
   "codemirror_mode": {
    "name": "ipython",
    "version": 3
   },
   "file_extension": ".py",
   "mimetype": "text/x-python",
   "name": "python",
   "nbconvert_exporter": "python",
   "pygments_lexer": "ipython3",
   "version": "3.8.8"
  }
 },
 "nbformat": 4,
 "nbformat_minor": 5
}
